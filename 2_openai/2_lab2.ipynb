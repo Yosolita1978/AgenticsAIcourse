{
 "cells": [
  {
   "cell_type": "markdown",
   "metadata": {},
   "source": [
    "## Week 2 Day 2\n",
    "\n",
    "Our first Agentic Framework project!!\n",
    "\n",
    "Prepare yourself for something ridiculously easy.\n",
    "\n",
    "We're going to build a simple Agent system for generating cold sales outreach emails:\n",
    "1. Agent workflow\n",
    "2. Use of tools to call functions\n",
    "3. Agent collaboration via Tools and Handoffs"
   ]
  },
  {
   "cell_type": "markdown",
   "metadata": {},
   "source": [
    "## Before we start - some setup:\n",
    "\n",
    "\n",
    "Please visit Sendgrid at: https://sendgrid.com/\n",
    "\n",
    "(Sendgrid is a Twilio company for sending emails.)\n",
    "\n",
    "Please set up an account - it's free! (at least, for me, right now).\n",
    "\n",
    "Once you've created an account, click on:\n",
    "\n",
    "Settings (left sidebar) >> API Keys >> Create API Key (button on top right)\n",
    "\n",
    "Copy the key to the clipboard, then add a new line to your .env file:\n",
    "\n",
    "`SENDGRID_API_KEY=xxxx`\n",
    "\n",
    "And also, within SendGrid, go to:\n",
    "\n",
    "Settings (left sidebar) >> Sender Authentication >> \"Verify a Single Sender\"  \n",
    "and verify that your own email address is a real email address, so that SendGrid can send emails for you.\n"
   ]
  },
  {
   "cell_type": "code",
   "execution_count": 1,
   "metadata": {},
   "outputs": [],
   "source": [
    "from dotenv import load_dotenv\n",
    "from agents import Agent, Runner, trace, function_tool\n",
    "from openai.types.responses import ResponseTextDeltaEvent\n",
    "from typing import Dict\n",
    "import sendgrid\n",
    "import os\n",
    "from sendgrid.helpers.mail import Mail, Email, To, Content\n",
    "import asyncio\n",
    "\n"
   ]
  },
  {
   "cell_type": "code",
   "execution_count": 2,
   "metadata": {},
   "outputs": [
    {
     "data": {
      "text/plain": [
       "True"
      ]
     },
     "execution_count": 2,
     "metadata": {},
     "output_type": "execute_result"
    }
   ],
   "source": [
    "load_dotenv(override=True)"
   ]
  },
  {
   "cell_type": "markdown",
   "metadata": {},
   "source": [
    "## Step 1: Agent workflow"
   ]
  },
  {
   "cell_type": "code",
   "execution_count": 13,
   "metadata": {},
   "outputs": [],
   "source": [
    "instructions1 = \"\"\"Eres un agente de ventas de TechConmigo.\n",
    "TechConmigo es una organización que ofrece formación práctica en negocios, tecnología e inteligencia artificial para mujeres de pequeñas y medianas empresas.\n",
    "Escribes correos comerciales para clientes potenciales profesionales, claros y formales que reflejan la misión de empoderar y educar de TechConmigo.\"\"\"\n",
    "\n",
    "instructions2 = \"\"\"Eres un agente de ventas divertido y encantador que trabaja para TechConmigo,\n",
    "una organización que ofrece formación práctica en negocios, tecnología e inteligencia artificial para mujeres de pequeñas y medianas empresas.\n",
    "Escribes correos comerciales para clientes potenciales ingeniosos, cercanos e inspiradores que despiertan curiosidad e invitan a inscribirse.\"\"\"\n",
    "\n",
    "instructions3 = \"\"\"Eres un agente de ventas muy ocupado que trabaja para TechConmigo,\n",
    "una organización que ofrece formación práctica en negocios, tecnología e inteligencia artificial para mujeres de pequeñas y medianas empresas.\n",
    "Escribes correos comerciales para clientes potenciales concisos y directos que destacan el valor y presentan un llamado a la acción claro.\"\"\"\n"
   ]
  },
  {
   "cell_type": "code",
   "execution_count": 14,
   "metadata": {},
   "outputs": [],
   "source": [
    "sales_agent1 = Agent(\n",
    "        name=\"Agente de Ventas Profesional\",\n",
    "        instructions=instructions1,\n",
    "        model=\"gpt-4o-mini\"\n",
    ")\n",
    "\n",
    "sales_agent2 = Agent(\n",
    "        name=\"Agente de Ventas Persuasivo\",\n",
    "        instructions=instructions2,\n",
    "        model=\"gpt-4o-mini\"\n",
    ")\n",
    "\n",
    "sales_agent3 = Agent(\n",
    "        name=\"Agente de Ventas Formal\",\n",
    "        instructions=instructions3,\n",
    "        model=\"gpt-4o-mini\"\n",
    ")"
   ]
  },
  {
   "cell_type": "code",
   "execution_count": 15,
   "metadata": {},
   "outputs": [
    {
     "name": "stdout",
     "output_type": "stream",
     "text": [
      "Asunto: Empoderamiento y Crecimiento para Mujeres Empresarias\n",
      "\n",
      "Estimada [Nombre del destinatario],\n",
      "\n",
      "Espero que este mensaje le encuentre bien. Mi nombre es [Tu Nombre] y formo parte del equipo de TechConmigo, una organización dedicada a empoderar a mujeres emprendedoras a través de formación práctica en negocios, tecnología e inteligencia artificial.\n",
      "\n",
      "En el cambiante mundo empresarial actual, la formación y el dominio de nuevas tecnologías son fundamentales para el éxito de cualquier empresa. En TechConmigo, ofrecemos programas diseñados específicamente para mujeres de pequeñas y medianas empresas que buscan potenciar sus habilidades y adaptarse a las innovaciones del mercado.\n",
      "\n",
      "Nuestros cursos abarcan desde estrategias de negocio efectivas hasta el uso de herramientas de inteligencia artificial que pueden transformar su modelo de negocio. Creemos que, al proporcionar estos recursos, contribuimos no solo al crecimiento individual, sino también al desarrollo de un ecosistema empresarial más sólido y equitativo.\n",
      "\n",
      "Estaríamos encantados de conversar con usted sobre cómo nuestras formaciones pueden beneficiar su empresa y ayudarle a alcanzar sus objetivos. Si está interesada, podría enviarnos un horario conveniente para programar una llamada o una reunión.\n",
      "\n",
      "Agradezco su tiempo y quedo a su disposición para cualquier consulta.\n",
      "\n",
      "Cordialmente,\n",
      "\n",
      "[Tu Nombre]  \n",
      "[Tu Cargo]  \n",
      "TechConmigo  \n",
      "[Tu Teléfono]  \n",
      "[Tu Correo Electrónico]  \n",
      "[Website de TechConmigo]  "
     ]
    }
   ],
   "source": [
    "\n",
    "result = Runner.run_streamed(sales_agent1, input=\"Redacta un correo de ventas no solicitado\")\n",
    "async for event in result.stream_events():\n",
    "    if event.type == \"raw_response_event\" and isinstance(event.data, ResponseTextDeltaEvent):\n",
    "        print(event.data.delta, end=\"\", flush=True)"
   ]
  },
  {
   "cell_type": "code",
   "execution_count": 16,
   "metadata": {},
   "outputs": [
    {
     "name": "stdout",
     "output_type": "stream",
     "text": [
      "Asunto: Potencializa Tu Negocio con Capacitación Especializada\n",
      "\n",
      "Estimada [Nombre del destinatario],\n",
      "\n",
      "Espero que este mensaje te encuentre bien. Mi nombre es [Tu Nombre] y soy parte del equipo de TechConmigo, una organización dedicada a brindar formación práctica en negocios, tecnología e inteligencia artificial, enfocándonos en el empoderamiento de mujeres en pequeñas y medianas empresas.\n",
      "\n",
      "Entendemos los desafíos que enfrentan las emprendedoras en la actualidad, especialmente en un entorno en constante evolución. Por ello, queremos ofrecerte la oportunidad de participar en nuestros programas de formación, diseñados específicamente para equipar a las líderes del futuro con las herramientas y conocimientos necesarios para sobresalir en sus respectivos campos.\n",
      "\n",
      "Nuestros cursos abarcan temas clave como la digitalización de negocios, el uso eficiente de la inteligencia artificial y estrategias de marketing digital. Contamos con un equipo de expertos que no solo imparte conocimientos, sino que también acompaña a las participantes en un proceso práctico y dinámico.\n",
      "\n",
      "Si deseas obtener más información sobre nuestros programas o agendar una reunión para discutir cómo podemos colaborar para potenciar tu negocio, no dudes en responder a este correo.\n",
      "\n",
      "Agradezco de antemano tu atención y espero poder conversar contigo pronto.\n",
      "\n",
      "Saludos cordiales,\n",
      "\n",
      "[Tu Nombre]  \n",
      "[Tu Cargo]  \n",
      "TechConmigo  \n",
      "[Tu Teléfono]  \n",
      "[Tu Correo Electrónico]  \n",
      "[Website de TechConmigo]  \n",
      "\n",
      "\n",
      "Asunto: ¡Descubre el poder de la tecnología en tu negocio!\n",
      "\n",
      "Hola [Nombre],\n",
      "\n",
      "Espero que estés teniendo un día espectacular. 😊\n",
      "\n",
      "Soy [Tu Nombre] de TechConmigo, un lugar donde la magia de la tecnología se encuentra con la determinación de mujeres increíblemente talentosas como tú. Sabemos que en el mundo de las pequeñas y medianas empresas, el tiempo es oro, y navegar por las aguas de la tecnología puede ser todo un desafío. ¡Pero aquí estamos para transformar ese desafío en una oportunidad!\n",
      "\n",
      "Imagina poder dominar herramientas de inteligencia artificial que no solo optimicen tus procesos, sino que también te brinden una ventaja competitiva en el mercado. Nuestra formación práctica está diseñada específicamente para que mujeres como tú desaten todo su potencial. \n",
      "\n",
      "¿Por qué elegir TechConmigo? Aquí van algunas razones:\n",
      "\n",
      "✨ **Formación práctica**: Aprenderás haciendo, con sesiones dinámicas y ejercicios que puedes aplicar directamente a tu negocio.\n",
      "✨ **Comunidad inspiradora**: Conectarás con mujeres que, al igual que tú, están listas para llevar sus negocios al siguiente nivel.\n",
      "✨ **Serás parte del cambio**: Al empoderarte a ti misma, inspiras a otras mujeres en el camino.\n",
      "\n",
      "Ahora, sé que podrías estar pensando: “Suena genial, pero tengo mil cosas en la cabeza”. ¡Entendemos! Por eso, te invito a una sesión informativa gratuita donde podrás ver de qué se trata todo esto sin compromiso. Solo tendrás que traer tu curiosidad y una buena taza de café ☕.\n",
      "\n",
      "Haz clic aquí [enlace] para agendar tu sesión. ¡Espero verte pronto y comenzar esta emocionante aventura juntas!\n",
      "\n",
      "Un abrazo,\n",
      "\n",
      "[Tu Nombre]  \n",
      "[Tu Cargo]  \n",
      "TechConmigo  \n",
      "[Tu Teléfono]  \n",
      "[Tu Sitio Web]  \n",
      "\n",
      "¡P.D.: No olvides que cada pequeño paso cuenta! 🚀\n",
      "\n",
      "\n",
      "Asunto: Potencia tu Negocio con Formación Práctica en Tecnología \n",
      "\n",
      "Estimado/a [Nombre del Cliente Potencial]:\n",
      "\n",
      "Espero que te encuentres bien. Soy [Tu Nombre] de TechConmigo, donde nos dedicamos a empoderar a mujeres líderes en pequeñas y medianas empresas a través de formación práctica en negocios, tecnología e inteligencia artificial.\n",
      "\n",
      "En un mundo en constante cambio, mejorar tus habilidades tecnológicas puede ser la clave para llevar tu negocio al siguiente nivel. En TechConmigo, ofrecemos programas diseñados específicamente para brindar herramientas reales y aplicables que marcarán la diferencia en tu día a día.\n",
      "\n",
      "Me encantaría agendar una breve llamada para discutir cómo nuestra formación puede ayudarte a alcanzar tus objetivos. ¿Tienes disponibilidad esta semana?\n",
      "\n",
      "Quedo atenta a tu respuesta.\n",
      "\n",
      "Saludos cordiales,\n",
      "\n",
      "[Tu Nombre]  \n",
      "[Tu Cargo]  \n",
      "TechConmigo  \n",
      "[Tu Teléfono]  \n",
      "[Tu Correo Electrónico]  \n",
      "\n",
      "\n"
     ]
    }
   ],
   "source": [
    "message = \"Redacta un correo de ventas no solicitado\"\n",
    "\n",
    "with trace(\"Correos de ventas en paralelo\"):\n",
    "    results = await asyncio.gather(\n",
    "        Runner.run(sales_agent1, message),\n",
    "        Runner.run(sales_agent2, message),\n",
    "        Runner.run(sales_agent3, message),\n",
    "    )\n",
    "\n",
    "outputs = [result.final_output for result in results]\n",
    "\n",
    "for output in outputs:\n",
    "    print(output + \"\\n\\n\")\n"
   ]
  },
  {
   "cell_type": "code",
   "execution_count": 17,
   "metadata": {},
   "outputs": [],
   "source": [
    "sales_picker = Agent(\n",
    "    name=\"seleccionador de correos\",\n",
    "    instructions=\"Eres un agente de ventas que selecciona el mejor correo de ventas no solicitado de las opciones dadas. \\\n",
    "Imagina que eres un cliente y eliges el que tienes más probabilidades de responder. \\\n",
    "No des una explicación; responde solo con el correo seleccionado.\",\n",
    "    model=\"gpt-4o-mini\"\n",
    ")"
   ]
  },
  {
   "cell_type": "code",
   "execution_count": 18,
   "metadata": {},
   "outputs": [
    {
     "name": "stdout",
     "output_type": "stream",
     "text": [
      "Mejor correo de ventas:\n",
      "Asunto: ¡Haz Brillar Tu Negocio con TechConmigo!\n"
     ]
    }
   ],
   "source": [
    "message = \"Redacta un correo de ventas no solicitado\"\n",
    "\n",
    "with trace(\"Selección de correos de ventas\"):\n",
    "    results = await asyncio.gather(\n",
    "        Runner.run(sales_agent1, message),\n",
    "        Runner.run(sales_agent2, message),\n",
    "        Runner.run(sales_agent3, message),\n",
    "    )\n",
    "    outputs = [result.final_output for result in results]\n",
    "\n",
    "    emails = \"Correos de ventas:\\n\\n\".join(outputs)\n",
    "\n",
    "    best = await Runner.run(sales_picker, emails)\n",
    "\n",
    "    print(f\"Mejor correo de ventas:\\n{best.final_output}\")\n"
   ]
  },
  {
   "cell_type": "markdown",
   "metadata": {},
   "source": [
    "Now go and check out the trace:\n",
    "\n",
    "https://platform.openai.com/traces"
   ]
  },
  {
   "cell_type": "markdown",
   "metadata": {},
   "source": [
    "## Part 2: use of tools\n",
    "\n",
    "Now we will add a tool to the mix.\n",
    "\n",
    "Remember all that json boilerplate and the `handle_tool_calls()` function with the if logic.."
   ]
  },
  {
   "cell_type": "code",
   "execution_count": 19,
   "metadata": {},
   "outputs": [],
   "source": [
    "sales_agent1 = Agent(\n",
    "        name=\"Agente de Ventas Profesional\",\n",
    "        instructions=instructions1,\n",
    "        model=\"gpt-4o-mini\",\n",
    ")\n",
    "\n",
    "sales_agent2 = Agent(\n",
    "        name=\"Agente de Ventas Persuasivo\",\n",
    "        instructions=instructions2,\n",
    "        model=\"gpt-4o-mini\",\n",
    ")\n",
    "\n",
    "sales_agent3 = Agent(\n",
    "        name=\"Agente de Ventas Formal\",\n",
    "        instructions=instructions3,\n",
    "        model=\"gpt-4o-mini\",\n",
    ")"
   ]
  },
  {
   "cell_type": "code",
   "execution_count": 20,
   "metadata": {},
   "outputs": [
    {
     "data": {
      "text/plain": [
       "Agent(name='Agente de Ventas Profesional', instructions='Eres un agente de ventas de TechConmigo.\\nTechConmigo es una organización que ofrece formación práctica en negocios, tecnología e inteligencia artificial para mujeres de pequeñas y medianas empresas.\\nEscribes correos comerciales para clientes potenciales profesionales, claros y formales que reflejan la misión de empoderar y educar de TechConmigo.', handoff_description=None, handoffs=[], model='gpt-4o-mini', model_settings=ModelSettings(temperature=None, top_p=None, frequency_penalty=None, presence_penalty=None, tool_choice=None, parallel_tool_calls=None, truncation=None, max_tokens=None, reasoning=None, metadata=None, store=None, include_usage=None, extra_query=None, extra_body=None, extra_headers=None), tools=[], mcp_servers=[], mcp_config={}, input_guardrails=[], output_guardrails=[], output_type=None, hooks=None, tool_use_behavior='run_llm_again', reset_tool_choice=True)"
      ]
     },
     "execution_count": 20,
     "metadata": {},
     "output_type": "execute_result"
    }
   ],
   "source": [
    "sales_agent1"
   ]
  },
  {
   "cell_type": "markdown",
   "metadata": {},
   "source": [
    "## Steps 2 and 3: Tools and Agent interactions\n",
    "\n",
    "Remember all that boilerplate json?\n",
    "\n",
    "Simply wrap your function with the decorator `@function_tool`"
   ]
  },
  {
   "cell_type": "code",
   "execution_count": 44,
   "metadata": {},
   "outputs": [],
   "source": [
    "@function_tool\n",
    "def send_email(body: str):\n",
    "    \"\"\" Envía un correo con el contenido proporcionado a todos los prospectos de ventas \"\"\"\n",
    "    try:\n",
    "        sg = sendgrid.SendGridAPIClient(api_key=os.environ.get('SENDGRID_API_KEY'))\n",
    "        from_email = Email(\"yosola@yosola.co\")  # Change to your verified sender\n",
    "        to_email = To(\"yosola@gmail.com\")  # Change to your recipient\n",
    "        content = Content(\"text/plain\", body)\n",
    "        mail = Mail(from_email, to_email, \"Correo de ventas potencial\", content).get()\n",
    "        response = sg.client.mail.send.post(request_body=mail)\n",
    "        return {\"status\": \"success\"}\n",
    "    except Exception as e:\n",
    "        return {\"status\": \"error\", \"message\": str(e)}"
   ]
  },
  {
   "cell_type": "markdown",
   "metadata": {},
   "source": [
    "### This has automatically been converted into a tool, with the boilerplate json created"
   ]
  },
  {
   "cell_type": "code",
   "execution_count": 45,
   "metadata": {},
   "outputs": [
    {
     "name": "stdout",
     "output_type": "stream",
     "text": [
      "FunctionTool(name='send_email', description='Envía un correo con el contenido proporcionado a todos los prospectos de ventas', params_json_schema={'properties': {'body': {'title': 'Body', 'type': 'string'}}, 'required': ['body'], 'title': 'send_email_args', 'type': 'object', 'additionalProperties': False}, on_invoke_tool=<function function_tool.<locals>._create_function_tool.<locals>._on_invoke_tool at 0x115a53240>, strict_json_schema=True)\n"
     ]
    }
   ],
   "source": [
    "# Let's look at it\n",
    "send_email\n",
    "print(send_email)"
   ]
  },
  {
   "cell_type": "markdown",
   "metadata": {},
   "source": [
    "### And you can also convert an Agent into a tool"
   ]
  },
  {
   "cell_type": "code",
   "execution_count": 46,
   "metadata": {},
   "outputs": [
    {
     "data": {
      "text/plain": [
       "FunctionTool(name='sales_agent1', description='Write a cold sales email', params_json_schema={'properties': {'input': {'title': 'Input', 'type': 'string'}}, 'required': ['input'], 'title': 'sales_agent1_args', 'type': 'object', 'additionalProperties': False}, on_invoke_tool=<function function_tool.<locals>._create_function_tool.<locals>._on_invoke_tool at 0x115b6d080>, strict_json_schema=True)"
      ]
     },
     "execution_count": 46,
     "metadata": {},
     "output_type": "execute_result"
    }
   ],
   "source": [
    "tool1 = sales_agent1.as_tool(tool_name=\"sales_agent1\", tool_description=\"Write a cold sales email\")\n",
    "tool1"
   ]
  },
  {
   "cell_type": "markdown",
   "metadata": {},
   "source": [
    "### So now we can gather all the tools together:\n",
    "\n",
    "A tool for each of our 3 email-writing agents\n",
    "\n",
    "And a tool for our function to send emails"
   ]
  },
  {
   "cell_type": "code",
   "execution_count": 47,
   "metadata": {},
   "outputs": [
    {
     "data": {
      "text/plain": [
       "[FunctionTool(name='sales_agent1', description='Redacta un correo de ventas para clientes potenciales', params_json_schema={'properties': {'input': {'title': 'Input', 'type': 'string'}}, 'required': ['input'], 'title': 'sales_agent1_args', 'type': 'object', 'additionalProperties': False}, on_invoke_tool=<function function_tool.<locals>._create_function_tool.<locals>._on_invoke_tool at 0x115b6f100>, strict_json_schema=True),\n",
       " FunctionTool(name='sales_agent2', description='Redacta un correo de ventas para clientes potenciales', params_json_schema={'properties': {'input': {'title': 'Input', 'type': 'string'}}, 'required': ['input'], 'title': 'sales_agent2_args', 'type': 'object', 'additionalProperties': False}, on_invoke_tool=<function function_tool.<locals>._create_function_tool.<locals>._on_invoke_tool at 0x114969f80>, strict_json_schema=True),\n",
       " FunctionTool(name='sales_agent3', description='Redacta un correo de ventas para clientes potenciales', params_json_schema={'properties': {'input': {'title': 'Input', 'type': 'string'}}, 'required': ['input'], 'title': 'sales_agent3_args', 'type': 'object', 'additionalProperties': False}, on_invoke_tool=<function function_tool.<locals>._create_function_tool.<locals>._on_invoke_tool at 0x115a93560>, strict_json_schema=True),\n",
       " FunctionTool(name='send_email', description='Envía un correo con el contenido proporcionado a todos los prospectos de ventas', params_json_schema={'properties': {'body': {'title': 'Body', 'type': 'string'}}, 'required': ['body'], 'title': 'send_email_args', 'type': 'object', 'additionalProperties': False}, on_invoke_tool=<function function_tool.<locals>._create_function_tool.<locals>._on_invoke_tool at 0x115a53240>, strict_json_schema=True)]"
      ]
     },
     "execution_count": 47,
     "metadata": {},
     "output_type": "execute_result"
    }
   ],
   "source": [
    "description = \"Redacta un correo de ventas para clientes potenciales\"\n",
    "\n",
    "tool1 = sales_agent1.as_tool(tool_name=\"sales_agent1\", tool_description=description)\n",
    "tool2 = sales_agent2.as_tool(tool_name=\"sales_agent2\", tool_description=description)\n",
    "tool3 = sales_agent3.as_tool(tool_name=\"sales_agent3\", tool_description=description)\n",
    "\n",
    "tools = [tool1, tool2, tool3, send_email]\n",
    "\n",
    "tools"
   ]
  },
  {
   "cell_type": "markdown",
   "metadata": {},
   "source": [
    "## And now it's time for our Sales Manager - our planning agent"
   ]
  },
  {
   "cell_type": "code",
   "execution_count": 50,
   "metadata": {},
   "outputs": [],
   "source": [
    "instructions = \"\"\"Eres un manager de ventas que trabaja para TechConmigo. Utilizas las herramientas proporcionadas para generar correos de ventas dirigidos a clientes potenciales.\n",
    "\n",
    "Nunca generas correos tú mismo; siempre usas las herramientas.\n",
    "\n",
    "Los correos deben estar redactados en español, con saludos y cierres genéricos. No incluyas campos como [Nombre del CEO], [Tu Nombre] o [Tu Puesto]. \n",
    "En su lugar, utiliza frases neutrales como 'Estimado equipo' o simplemente firma con 'El equipo de TechConmigo'.\n",
    "\n",
    "Intentas las tres herramientas de generación de correos una vez antes de elegir el mejor.\n",
    "Luego usas la herramienta send_email para enviar únicamente el mejor correo generado.\"\"\"\n",
    "\n",
    "\n",
    "sales_manager = Agent(name=\"Manager de ventas\", instructions=instructions, tools=tools, model=\"gpt-4o-mini\")\n",
    "\n",
    "message = \"Envía un correo de ventas no solicitado en español, usando un saludo y firma genéricos, dirigido a una empresa interesada en tecnología e inteligencia artificial.\"\n",
    "\n",
    "with trace(\"Manager de ventas\"):\n",
    "    result = await Runner.run(sales_manager, message)"
   ]
  },
  {
   "cell_type": "code",
   "execution_count": 49,
   "metadata": {},
   "outputs": [
    {
     "name": "stdout",
     "output_type": "stream",
     "text": [
      "RunResult:\n",
      "- Last agent: Agent(name=\"Manager de ventas\", ...)\n",
      "- Final output (str):\n",
      "    El correo de ventas ha sido enviado con éxito. Si necesitas más ayuda o deseas realizar otra acción, ¡háznoslo saber!\n",
      "- 9 new item(s)\n",
      "- 3 raw response(s)\n",
      "- 0 input guardrail result(s)\n",
      "- 0 output guardrail result(s)\n",
      "(See `RunResult` for more details)\n"
     ]
    }
   ],
   "source": [
    "print(result)"
   ]
  },
  {
   "cell_type": "markdown",
   "metadata": {},
   "source": [
    "<table style=\"margin: 0; text-align: left; width:100%\">\n",
    "    <tr>\n",
    "        <td style=\"width: 150px; height: 150px; vertical-align: middle;\">\n",
    "            <img src=\"../assets/stop.png\" width=\"150\" height=\"150\" style=\"display: block;\" />\n",
    "        </td>\n",
    "        <td>\n",
    "            <h2 style=\"color:#ff7800;\">Wait - you didn't get an email??</h2>\n",
    "            <span style=\"color:#ff7800;\">With much thanks to student Chris S. for describing his issue and fixes. \n",
    "            If you don't receive an email after running the prior cell, here are some things to check: <br/>\n",
    "            First, check your Spam folder! Several students have missed that the emails arrived in Spam!<br/>Second, print(result) and see if you are receiving errors about SSL. \n",
    "            If you're receiving SSL errors, then please check out theses <a href=\"https://chatgpt.com/share/680620ec-3b30-8012-8c26-ca86693d0e3d\">networking tips</a> and see the note in the next cell. Also look at the trace in OpenAI, and investigate on the SendGrid website, to hunt for clues. Let me know if I can help!\n",
    "            </span>\n",
    "        </td>\n",
    "    </tr>\n",
    "</table>"
   ]
  },
  {
   "cell_type": "markdown",
   "metadata": {},
   "source": [
    "### And one more suggestion to send emails from student Oleksandr on Windows 11:\n",
    "\n",
    "If you are getting certificate SSL errors, then:  \n",
    "Run this in a terminal: `uv pip install --upgrade certifi`\n",
    "\n",
    "Then run this code:\n",
    "```python\n",
    "import certifi\n",
    "import os\n",
    "os.environ['SSL_CERT_FILE'] = certifi.where()\n",
    "```\n",
    "\n",
    "Thank you Oleksandr!"
   ]
  },
  {
   "cell_type": "markdown",
   "metadata": {},
   "source": [
    "## Remember to check the trace\n",
    "\n",
    "https://platform.openai.com/traces\n",
    "\n",
    "And then check your email!!\n"
   ]
  },
  {
   "cell_type": "markdown",
   "metadata": {},
   "source": [
    "### Handoffs represent a way an agent can delegate to an agent, passing control to it\n",
    "\n",
    "Handoffs and Agents-as-tools are similar:\n",
    "\n",
    "In both cases, an Agent can collaborate with another Agent\n",
    "\n",
    "With tools, control passes back\n",
    "\n",
    "With handoffs, control passes across\n",
    "\n"
   ]
  },
  {
   "cell_type": "code",
   "execution_count": 52,
   "metadata": {},
   "outputs": [],
   "source": [
    "# Instrucciones para generar el asunto de un correo de ventas en frío\n",
    "subject_instructions = \"Puedes redactar un asunto para un correo de ventas en frío. \\\n",
    "Se te proporciona un mensaje y necesitas escribir un asunto para un correo electrónico que sea probable que reciba una respuesta.\"\n",
    "\n",
    "# Instrucciones para convertir el cuerpo del correo a HTML\n",
    "html_instructions = \"Puedes convertir el cuerpo de un correo en texto plano a HTML. \\\n",
    "Se te proporciona un cuerpo de correo en texto, que puede contener algo de markdown, \\\n",
    "y necesitas convertirlo en un cuerpo de correo HTML con un diseño simple, claro y atractivo.\"\n",
    "\n",
    "# Agente para generar el asunto del correo\n",
    "subject_writer = Agent(name=\"Redactor de asuntos de correo\", instructions=subject_instructions, model=\"gpt-4o-mini\")\n",
    "subject_tool = subject_writer.as_tool(tool_name=\"subject_writer\", tool_description=\"Redacta el asunto para un correo de ventas en frío\")\n",
    "\n",
    "# Agente para convertir el correo a HTML\n",
    "html_converter = Agent(name=\"Convertidor de correos a HTML\", instructions=html_instructions, model=\"gpt-4o-mini\")\n",
    "html_tool = html_converter.as_tool(tool_name=\"html_converter\", tool_description=\"Convierte un cuerpo de correo en texto a formato HTML\")\n",
    "\n"
   ]
  },
  {
   "cell_type": "code",
   "execution_count": 53,
   "metadata": {},
   "outputs": [],
   "source": [
    "@function_tool\n",
    "def send_html_email(subject: str, html_body: str) -> Dict[str, str]:\n",
    "    \"\"\" Send out an email with the given subject and HTML body to all sales prospects \"\"\"\n",
    "    sg = sendgrid.SendGridAPIClient(api_key=os.environ.get('SENDGRID_API_KEY'))\n",
    "    from_email = Email(\"yosola@yosola.co\")  # Change to your verified sender\n",
    "    to_email = To(\"yosola@gmail.com\")  # Change to your recipient\n",
    "    content = Content(\"text/html\", html_body)\n",
    "    mail = Mail(from_email, to_email, subject, content).get()\n",
    "    response = sg.client.mail.send.post(request_body=mail)\n",
    "    return {\"status\": \"success\"}"
   ]
  },
  {
   "cell_type": "code",
   "execution_count": 54,
   "metadata": {},
   "outputs": [],
   "source": [
    "tools = [subject_tool, html_tool, send_html_email]"
   ]
  },
  {
   "cell_type": "code",
   "execution_count": 55,
   "metadata": {},
   "outputs": [
    {
     "data": {
      "text/plain": [
       "[FunctionTool(name='subject_writer', description='Redacta el asunto para un correo de ventas en frío', params_json_schema={'properties': {'input': {'title': 'Input', 'type': 'string'}}, 'required': ['input'], 'title': 'subject_writer_args', 'type': 'object', 'additionalProperties': False}, on_invoke_tool=<function function_tool.<locals>._create_function_tool.<locals>._on_invoke_tool at 0x115b6c540>, strict_json_schema=True),\n",
       " FunctionTool(name='html_converter', description='Convierte un cuerpo de correo en texto a formato HTML', params_json_schema={'properties': {'input': {'title': 'Input', 'type': 'string'}}, 'required': ['input'], 'title': 'html_converter_args', 'type': 'object', 'additionalProperties': False}, on_invoke_tool=<function function_tool.<locals>._create_function_tool.<locals>._on_invoke_tool at 0x115b6d940>, strict_json_schema=True),\n",
       " FunctionTool(name='send_html_email', description='Send out an email with the given subject and HTML body to all sales prospects', params_json_schema={'properties': {'subject': {'title': 'Subject', 'type': 'string'}, 'html_body': {'title': 'Html Body', 'type': 'string'}}, 'required': ['subject', 'html_body'], 'title': 'send_html_email_args', 'type': 'object', 'additionalProperties': False}, on_invoke_tool=<function function_tool.<locals>._create_function_tool.<locals>._on_invoke_tool at 0x115a93100>, strict_json_schema=True)]"
      ]
     },
     "execution_count": 55,
     "metadata": {},
     "output_type": "execute_result"
    }
   ],
   "source": [
    "tools"
   ]
  },
  {
   "cell_type": "code",
   "execution_count": 59,
   "metadata": {},
   "outputs": [],
   "source": [
    "instructions = \"\"\"Eres un formateador y remitente de correos electrónicos. Recibes el cuerpo de un correo que debe ser enviado.\n",
    "Los correos deben estar redactados en español, con saludos y cierres genéricos. No incluyas campos como [Nombre del CEO], [Tu Nombre] o [Tu Puesto].\n",
    "En su lugar, utiliza frases neutrales como 'Estimado equipo' o simplemente firma con 'El equipo de TechConmigo'.\n",
    "\n",
    "Primero usas la herramienta subject_writer para redactar un asunto para el correo, luego usas la herramienta html_converter para convertir el cuerpo a formato HTML.\n",
    "Finalmente, usas la herramienta send_html_email para enviar el correo con el asunto y el cuerpo en HTML.\"\"\"\n",
    "\n",
    "\n",
    "emailer_agent = Agent(\n",
    "    name=\"Gerador de correos\",\n",
    "    instructions=instructions,\n",
    "    tools=tools,\n",
    "    model=\"gpt-4o-mini\",\n",
    "    handoff_description=\"Convierte un correo a HTML y lo envía\")\n"
   ]
  },
  {
   "cell_type": "markdown",
   "metadata": {},
   "source": [
    "### Now we have 3 tools and 1 handoff"
   ]
  },
  {
   "cell_type": "code",
   "execution_count": 60,
   "metadata": {},
   "outputs": [
    {
     "name": "stdout",
     "output_type": "stream",
     "text": [
      "[FunctionTool(name='sales_agent1', description='Redacta un correo de ventas para clientes potenciales', params_json_schema={'properties': {'input': {'title': 'Input', 'type': 'string'}}, 'required': ['input'], 'title': 'sales_agent1_args', 'type': 'object', 'additionalProperties': False}, on_invoke_tool=<function function_tool.<locals>._create_function_tool.<locals>._on_invoke_tool at 0x115b6f100>, strict_json_schema=True), FunctionTool(name='sales_agent2', description='Redacta un correo de ventas para clientes potenciales', params_json_schema={'properties': {'input': {'title': 'Input', 'type': 'string'}}, 'required': ['input'], 'title': 'sales_agent2_args', 'type': 'object', 'additionalProperties': False}, on_invoke_tool=<function function_tool.<locals>._create_function_tool.<locals>._on_invoke_tool at 0x114969f80>, strict_json_schema=True), FunctionTool(name='sales_agent3', description='Redacta un correo de ventas para clientes potenciales', params_json_schema={'properties': {'input': {'title': 'Input', 'type': 'string'}}, 'required': ['input'], 'title': 'sales_agent3_args', 'type': 'object', 'additionalProperties': False}, on_invoke_tool=<function function_tool.<locals>._create_function_tool.<locals>._on_invoke_tool at 0x115a93560>, strict_json_schema=True)]\n",
      "[Agent(name='Gerador de correos', instructions=\"Eres un formateador y remitente de correos electrónicos. Recibes el cuerpo de un correo que debe ser enviado.\\nLos correos deben estar redactados en español, con saludos y cierres genéricos. No incluyas campos como [Nombre del CEO], [Tu Nombre] o [Tu Puesto].\\nEn su lugar, utiliza frases neutrales como 'Estimado equipo' o simplemente firma con 'El equipo de TechConmigo'.\\n\\nPrimero usas la herramienta subject_writer para redactar un asunto para el correo, luego usas la herramienta html_converter para convertir el cuerpo a formato HTML.\\nFinalmente, usas la herramienta send_html_email para enviar el correo con el asunto y el cuerpo en HTML.\", handoff_description='Convierte un correo a HTML y lo envía', handoffs=[], model='gpt-4o-mini', model_settings=ModelSettings(temperature=None, top_p=None, frequency_penalty=None, presence_penalty=None, tool_choice=None, parallel_tool_calls=None, truncation=None, max_tokens=None, reasoning=None, metadata=None, store=None, include_usage=None, extra_query=None, extra_body=None, extra_headers=None), tools=[FunctionTool(name='sales_agent1', description='Redacta un correo de ventas para clientes potenciales', params_json_schema={'properties': {'input': {'title': 'Input', 'type': 'string'}}, 'required': ['input'], 'title': 'sales_agent1_args', 'type': 'object', 'additionalProperties': False}, on_invoke_tool=<function function_tool.<locals>._create_function_tool.<locals>._on_invoke_tool at 0x115b6f100>, strict_json_schema=True), FunctionTool(name='sales_agent2', description='Redacta un correo de ventas para clientes potenciales', params_json_schema={'properties': {'input': {'title': 'Input', 'type': 'string'}}, 'required': ['input'], 'title': 'sales_agent2_args', 'type': 'object', 'additionalProperties': False}, on_invoke_tool=<function function_tool.<locals>._create_function_tool.<locals>._on_invoke_tool at 0x114969f80>, strict_json_schema=True), FunctionTool(name='sales_agent3', description='Redacta un correo de ventas para clientes potenciales', params_json_schema={'properties': {'input': {'title': 'Input', 'type': 'string'}}, 'required': ['input'], 'title': 'sales_agent3_args', 'type': 'object', 'additionalProperties': False}, on_invoke_tool=<function function_tool.<locals>._create_function_tool.<locals>._on_invoke_tool at 0x115a93560>, strict_json_schema=True)], mcp_servers=[], mcp_config={}, input_guardrails=[], output_guardrails=[], output_type=None, hooks=None, tool_use_behavior='run_llm_again', reset_tool_choice=True)]\n"
     ]
    }
   ],
   "source": [
    "tools = [tool1, tool2, tool3]\n",
    "handoffs = [emailer_agent]\n",
    "print(tools)\n",
    "print(handoffs)"
   ]
  },
  {
   "cell_type": "code",
   "execution_count": 62,
   "metadata": {},
   "outputs": [
    {
     "ename": "MaxTurnsExceeded",
     "evalue": "Max turns (10) exceeded",
     "output_type": "error",
     "traceback": [
      "\u001b[31m---------------------------------------------------------------------------\u001b[39m",
      "\u001b[31mMaxTurnsExceeded\u001b[39m                          Traceback (most recent call last)",
      "\u001b[36mCell\u001b[39m\u001b[36m \u001b[39m\u001b[32mIn[62]\u001b[39m\u001b[32m, line 19\u001b[39m\n\u001b[32m     16\u001b[39m message = \u001b[33m\"\u001b[39m\u001b[33mEnvía un correo de ventas en frío dirigido a un equipo de trabajo desde la cuenta de Cristina, email: yosola@yosola.co, CTO de TechConmigo\u001b[39m\u001b[33m\"\u001b[39m\n\u001b[32m     18\u001b[39m \u001b[38;5;28;01mwith\u001b[39;00m trace(\u001b[33m\"\u001b[39m\u001b[33mAutomated SDR\u001b[39m\u001b[33m\"\u001b[39m):\n\u001b[32m---> \u001b[39m\u001b[32m19\u001b[39m     result = \u001b[38;5;28;01mawait\u001b[39;00m Runner.run(sales_manager, message)\n",
      "\u001b[36mFile \u001b[39m\u001b[32m~/src/agents/.venv/lib/python3.12/site-packages/agents/run.py:211\u001b[39m, in \u001b[36mRunner.run\u001b[39m\u001b[34m(cls, starting_agent, input, context, max_turns, hooks, run_config, previous_response_id)\u001b[39m\n\u001b[32m    203\u001b[39m \u001b[38;5;28;01mif\u001b[39;00m current_turn > max_turns:\n\u001b[32m    204\u001b[39m     _error_tracing.attach_error_to_span(\n\u001b[32m    205\u001b[39m         current_span,\n\u001b[32m    206\u001b[39m         SpanError(\n\u001b[32m   (...)\u001b[39m\u001b[32m    209\u001b[39m         ),\n\u001b[32m    210\u001b[39m     )\n\u001b[32m--> \u001b[39m\u001b[32m211\u001b[39m     \u001b[38;5;28;01mraise\u001b[39;00m MaxTurnsExceeded(\u001b[33mf\u001b[39m\u001b[33m\"\u001b[39m\u001b[33mMax turns (\u001b[39m\u001b[38;5;132;01m{\u001b[39;00mmax_turns\u001b[38;5;132;01m}\u001b[39;00m\u001b[33m) exceeded\u001b[39m\u001b[33m\"\u001b[39m)\n\u001b[32m    213\u001b[39m logger.debug(\n\u001b[32m    214\u001b[39m     \u001b[33mf\u001b[39m\u001b[33m\"\u001b[39m\u001b[33mRunning agent \u001b[39m\u001b[38;5;132;01m{\u001b[39;00mcurrent_agent.name\u001b[38;5;132;01m}\u001b[39;00m\u001b[33m (turn \u001b[39m\u001b[38;5;132;01m{\u001b[39;00mcurrent_turn\u001b[38;5;132;01m}\u001b[39;00m\u001b[33m)\u001b[39m\u001b[33m\"\u001b[39m,\n\u001b[32m    215\u001b[39m )\n\u001b[32m    217\u001b[39m \u001b[38;5;28;01mif\u001b[39;00m current_turn == \u001b[32m1\u001b[39m:\n",
      "\u001b[31mMaxTurnsExceeded\u001b[39m: Max turns (10) exceeded"
     ]
    }
   ],
   "source": [
    "sales_manager_instructions = \"Eres un gerente de ventas que trabaja para TechConmigo. Utilizas las herramientas que se te proporcionan para generar correos de ventas en frío. \\\n",
    "Nunca generas los correos tú mismo; siempre utilizas las herramientas. \\\n",
    "Pruebas las 3 herramientas de agentes de ventas al menos una vez antes de elegir la mejor opción. \\\n",
    "Puedes usar las herramientas varias veces si no estás satisfecho con los resultados del primer intento. \\\n",
    "Seleccionas el único mejor correo utilizando tu propio criterio sobre cuál será el más efectivo. \\\n",
    "Después de elegir el correo, lo entregas al agente Gestor de Correos para que lo formatee y lo envíe.\"\n",
    "\n",
    "\n",
    "sales_manager = Agent(\n",
    "    name=\"Gerente de ventas\",\n",
    "    instructions=sales_manager_instructions,\n",
    "    tools=tools,\n",
    "    handoffs=handoffs,\n",
    "    model=\"gpt-4o-mini\")\n",
    "\n",
    "message = \"Envía un correo de ventas en frío dirigido a un equipo de trabajo desde la cuenta de Cristina, email: yosola@yosola.co, CTO de TechConmigo\"\n",
    "\n",
    "with trace(\"Automated SDR\"):\n",
    "    result = await Runner.run(sales_manager, message)"
   ]
  },
  {
   "cell_type": "code",
   "execution_count": 64,
   "metadata": {},
   "outputs": [
    {
     "data": {
      "image/svg+xml": [
       "<?xml version=\"1.0\" encoding=\"UTF-8\" standalone=\"no\"?>\n",
       "<!DOCTYPE svg PUBLIC \"-//W3C//DTD SVG 1.1//EN\"\n",
       " \"http://www.w3.org/Graphics/SVG/1.1/DTD/svg11.dtd\">\n",
       "<!-- Generated by graphviz version 13.0.1 (20250615.1724)\n",
       " -->\n",
       "<!-- Title: G Pages: 1 -->\n",
       "<svg width=\"412pt\" height=\"368pt\"\n",
       " viewBox=\"0.00 0.00 412.00 368.00\" xmlns=\"http://www.w3.org/2000/svg\" xmlns:xlink=\"http://www.w3.org/1999/xlink\">\n",
       "<g id=\"graph0\" class=\"graph\" transform=\"scale(1 1) rotate(0) translate(4 363.96)\">\n",
       "<title>G</title>\n",
       "<polygon fill=\"white\" stroke=\"none\" points=\"-4,4 -4,-363.96 408.12,-363.96 408.12,4 -4,4\"/>\n",
       "<!-- __start__ -->\n",
       "<g id=\"node1\" class=\"node\">\n",
       "<title>__start__</title>\n",
       "<ellipse fill=\"lightblue\" stroke=\"black\" cx=\"193.06\" cy=\"-343.17\" rx=\"51.09\" ry=\"16.79\"/>\n",
       "<text xml:space=\"preserve\" text-anchor=\"middle\" x=\"193.06\" y=\"-337.74\" font-family=\"Arial\" font-size=\"14.00\">__start__</text>\n",
       "</g>\n",
       "<!-- Gerente de ventas -->\n",
       "<g id=\"node3\" class=\"node\">\n",
       "<title>Gerente de ventas</title>\n",
       "<polygon fill=\"lightyellow\" stroke=\"black\" points=\"256.93,-290.38 129.18,-290.38 129.18,-232.78 256.93,-232.78 256.93,-290.38\"/>\n",
       "<text xml:space=\"preserve\" text-anchor=\"middle\" x=\"193.06\" y=\"-256.15\" font-family=\"Arial\" font-size=\"14.00\">Gerente de ventas</text>\n",
       "</g>\n",
       "<!-- __start__&#45;&gt;Gerente de ventas -->\n",
       "<g id=\"edge1\" class=\"edge\">\n",
       "<title>__start__&#45;&gt;Gerente de ventas</title>\n",
       "<path fill=\"none\" stroke=\"black\" stroke-width=\"1.5\" d=\"M193.06,-326.06C193.06,-319.23 193.06,-310.92 193.06,-302.61\"/>\n",
       "<polygon fill=\"black\" stroke=\"black\" stroke-width=\"1.5\" points=\"196.56,-302.85 193.06,-292.85 189.56,-302.85 196.56,-302.85\"/>\n",
       "</g>\n",
       "<!-- __end__ -->\n",
       "<g id=\"node2\" class=\"node\">\n",
       "<title>__end__</title>\n",
       "<ellipse fill=\"lightblue\" stroke=\"black\" cx=\"202.06\" cy=\"-16.79\" rx=\"48.44\" ry=\"16.79\"/>\n",
       "<text xml:space=\"preserve\" text-anchor=\"middle\" x=\"202.06\" y=\"-11.37\" font-family=\"Arial\" font-size=\"14.00\">__end__</text>\n",
       "</g>\n",
       "<!-- sales_agent1 -->\n",
       "<g id=\"node4\" class=\"node\">\n",
       "<title>sales_agent1</title>\n",
       "<ellipse fill=\"lightgreen\" stroke=\"black\" cx=\"193.06\" cy=\"-179.98\" rx=\"68.06\" ry=\"16.79\"/>\n",
       "<text xml:space=\"preserve\" text-anchor=\"middle\" x=\"193.06\" y=\"-174.56\" font-family=\"Arial\" font-size=\"14.00\">sales_agent1</text>\n",
       "</g>\n",
       "<!-- Gerente de ventas&#45;&gt;sales_agent1 -->\n",
       "<g id=\"edge2\" class=\"edge\">\n",
       "<title>Gerente de ventas&#45;&gt;sales_agent1</title>\n",
       "<path fill=\"none\" stroke=\"black\" stroke-width=\"1.5\" stroke-dasharray=\"1,5\" d=\"M186.57,-232.29C186.22,-224.82 186.22,-216.77 186.56,-209.3\"/>\n",
       "<polygon fill=\"black\" stroke=\"black\" stroke-width=\"1.5\" points=\"190.05,-209.63 187.33,-199.39 183.07,-209.09 190.05,-209.63\"/>\n",
       "</g>\n",
       "<!-- sales_agent2 -->\n",
       "<g id=\"node5\" class=\"node\">\n",
       "<title>sales_agent2</title>\n",
       "<ellipse fill=\"lightgreen\" stroke=\"black\" cx=\"68.06\" cy=\"-16.79\" rx=\"68.06\" ry=\"16.79\"/>\n",
       "<text xml:space=\"preserve\" text-anchor=\"middle\" x=\"68.06\" y=\"-11.37\" font-family=\"Arial\" font-size=\"14.00\">sales_agent2</text>\n",
       "</g>\n",
       "<!-- Gerente de ventas&#45;&gt;sales_agent2 -->\n",
       "<g id=\"edge4\" class=\"edge\">\n",
       "<title>Gerente de ventas&#45;&gt;sales_agent2</title>\n",
       "<path fill=\"none\" stroke=\"black\" stroke-width=\"1.5\" stroke-dasharray=\"1,5\" d=\"M141.2,-232.44C128.32,-222.5 115.78,-210.36 107.06,-196.78 76.6,-149.3 65.35,-82.9 64.17,-45.77\"/>\n",
       "<polygon fill=\"black\" stroke=\"black\" stroke-width=\"1.5\" points=\"67.67,-46.2 64.16,-36.2 60.67,-46.21 67.67,-46.2\"/>\n",
       "</g>\n",
       "<!-- sales_agent3 -->\n",
       "<g id=\"node6\" class=\"node\">\n",
       "<title>sales_agent3</title>\n",
       "<ellipse fill=\"lightgreen\" stroke=\"black\" cx=\"336.06\" cy=\"-16.79\" rx=\"68.06\" ry=\"16.79\"/>\n",
       "<text xml:space=\"preserve\" text-anchor=\"middle\" x=\"336.06\" y=\"-11.37\" font-family=\"Arial\" font-size=\"14.00\">sales_agent3</text>\n",
       "</g>\n",
       "<!-- Gerente de ventas&#45;&gt;sales_agent3 -->\n",
       "<g id=\"edge6\" class=\"edge\">\n",
       "<title>Gerente de ventas&#45;&gt;sales_agent3</title>\n",
       "<path fill=\"none\" stroke=\"black\" stroke-width=\"1.5\" stroke-dasharray=\"1,5\" d=\"M239.06,-232.31C252.91,-222.71 267.03,-210.79 277.06,-196.78 310.05,-150.65 321.31,-83.49 328.04,-45.92\"/>\n",
       "<polygon fill=\"black\" stroke=\"black\" stroke-width=\"1.5\" points=\"331.46,-46.65 329.85,-36.18 324.58,-45.38 331.46,-46.65\"/>\n",
       "</g>\n",
       "<!-- Gerador de correos -->\n",
       "<g id=\"node7\" class=\"node\">\n",
       "<title>Gerador de correos</title>\n",
       "<polygon fill=\"lightyellow\" stroke=\"black\" points=\"263.93,-127.19 130.18,-127.19 130.18,-69.59 263.93,-69.59 263.93,-127.19\"/>\n",
       "<text xml:space=\"preserve\" text-anchor=\"middle\" x=\"197.06\" y=\"-92.96\" font-family=\"Arial\" font-size=\"14.00\">Gerador de correos</text>\n",
       "</g>\n",
       "<!-- Gerente de ventas&#45;&gt;Gerador de correos -->\n",
       "<g id=\"edge8\" class=\"edge\">\n",
       "<title>Gerente de ventas&#45;&gt;Gerador de correos</title>\n",
       "<path fill=\"none\" stroke=\"black\" stroke-width=\"1.5\" d=\"M240.22,-232.4C252.18,-222.73 263.49,-210.76 270.06,-196.78 276.41,-183.27 276.23,-176.78 270.06,-163.19 265.46,-153.06 258.37,-143.91 250.38,-135.9\"/>\n",
       "<polygon fill=\"black\" stroke=\"black\" stroke-width=\"1.5\" points=\"252.84,-133.41 243.11,-129.21 248.1,-138.56 252.84,-133.41\"/>\n",
       "</g>\n",
       "<!-- sales_agent1&#45;&gt;Gerente de ventas -->\n",
       "<g id=\"edge3\" class=\"edge\">\n",
       "<title>sales_agent1&#45;&gt;Gerente de ventas</title>\n",
       "<path fill=\"none\" stroke=\"black\" stroke-width=\"1.5\" stroke-dasharray=\"1,5\" d=\"M198.61,-197.13C199.39,-203.83 199.79,-211.93 199.81,-220.08\"/>\n",
       "<polygon fill=\"black\" stroke=\"black\" stroke-width=\"1.5\" points=\"196.31,-219.95 199.6,-230.02 203.31,-220.1 196.31,-219.95\"/>\n",
       "</g>\n",
       "<!-- sales_agent1&#45;&gt;Gerador de correos -->\n",
       "<g id=\"edge10\" class=\"edge\">\n",
       "<title>sales_agent1&#45;&gt;Gerador de correos</title>\n",
       "<path fill=\"none\" stroke=\"black\" stroke-width=\"1.5\" stroke-dasharray=\"1,5\" d=\"M188.32,-162.87C187.87,-156.04 187.89,-147.74 188.3,-139.42\"/>\n",
       "<polygon fill=\"black\" stroke=\"black\" stroke-width=\"1.5\" points=\"191.77,-139.89 189.01,-129.66 184.79,-139.38 191.77,-139.89\"/>\n",
       "</g>\n",
       "<!-- sales_agent2&#45;&gt;Gerente de ventas -->\n",
       "<g id=\"edge5\" class=\"edge\">\n",
       "<title>sales_agent2&#45;&gt;Gerente de ventas</title>\n",
       "<path fill=\"none\" stroke=\"black\" stroke-width=\"1.5\" stroke-dasharray=\"1,5\" d=\"M74.08,-33.93C80.96,-66.98 91.01,-143.7 125.06,-196.78 131.6,-206.97 140.29,-216.34 149.29,-224.59\"/>\n",
       "<polygon fill=\"black\" stroke=\"black\" stroke-width=\"1.5\" points=\"146.78,-227.04 156.62,-230.96 151.37,-221.75 146.78,-227.04\"/>\n",
       "</g>\n",
       "<!-- sales_agent2&#45;&gt;Gerador de correos -->\n",
       "<g id=\"edge12\" class=\"edge\">\n",
       "<title>sales_agent2&#45;&gt;Gerador de correos</title>\n",
       "<path fill=\"none\" stroke=\"black\" stroke-width=\"1.5\" stroke-dasharray=\"1,5\" d=\"M97.04,-32.37C111.9,-40.86 130.34,-51.96 147.35,-62.58\"/>\n",
       "<polygon fill=\"black\" stroke=\"black\" stroke-width=\"1.5\" points=\"145.46,-65.53 155.79,-67.89 149.19,-59.6 145.46,-65.53\"/>\n",
       "</g>\n",
       "<!-- sales_agent3&#45;&gt;Gerente de ventas -->\n",
       "<g id=\"edge7\" class=\"edge\">\n",
       "<title>sales_agent3&#45;&gt;Gerente de ventas</title>\n",
       "<path fill=\"none\" stroke=\"black\" stroke-width=\"1.5\" stroke-dasharray=\"1,5\" d=\"M340.12,-33.95C341.66,-67.36 331.94,-145.21 295.06,-196.78 287.31,-207.61 277.1,-217.2 266.13,-225.43\"/>\n",
       "<polygon fill=\"black\" stroke=\"black\" stroke-width=\"1.5\" points=\"264.36,-222.4 258.19,-231.01 268.38,-228.13 264.36,-222.4\"/>\n",
       "</g>\n",
       "<!-- sales_agent3&#45;&gt;Gerador de correos -->\n",
       "<g id=\"edge14\" class=\"edge\">\n",
       "<title>sales_agent3&#45;&gt;Gerador de correos</title>\n",
       "<path fill=\"none\" stroke=\"black\" stroke-width=\"1.5\" stroke-dasharray=\"1,5\" d=\"M314.89,-33.03C300.99,-41.59 282.11,-52.64 263.52,-63.16\"/>\n",
       "<polygon fill=\"black\" stroke=\"black\" stroke-width=\"1.5\" points=\"261.93,-60.04 254.93,-67.99 265.36,-66.14 261.93,-60.04\"/>\n",
       "</g>\n",
       "<!-- Gerador de correos&#45;&gt;__end__ -->\n",
       "<g id=\"edge15\" class=\"edge\">\n",
       "<title>Gerador de correos&#45;&gt;__end__</title>\n",
       "<path fill=\"none\" stroke=\"black\" stroke-width=\"1.5\" d=\"M198.84,-69.1C199.3,-61.64 199.81,-53.58 200.28,-46.11\"/>\n",
       "<polygon fill=\"black\" stroke=\"black\" stroke-width=\"1.5\" points=\"203.77,-46.41 200.9,-36.21 196.78,-45.97 203.77,-46.41\"/>\n",
       "</g>\n",
       "<!-- Gerador de correos&#45;&gt;sales_agent1 -->\n",
       "<g id=\"edge9\" class=\"edge\">\n",
       "<title>Gerador de correos&#45;&gt;sales_agent1</title>\n",
       "<path fill=\"none\" stroke=\"black\" stroke-width=\"1.5\" stroke-dasharray=\"1,5\" d=\"M202.13,-127.39C202.11,-135.01 201.69,-143.25 200.96,-150.87\"/>\n",
       "<polygon fill=\"black\" stroke=\"black\" stroke-width=\"1.5\" points=\"197.51,-150.26 199.71,-160.62 204.45,-151.15 197.51,-150.26\"/>\n",
       "</g>\n",
       "<!-- Gerador de correos&#45;&gt;sales_agent2 -->\n",
       "<g id=\"edge11\" class=\"edge\">\n",
       "<title>Gerador de correos&#45;&gt;sales_agent2</title>\n",
       "<path fill=\"none\" stroke=\"black\" stroke-width=\"1.5\" stroke-dasharray=\"1,5\" d=\"M144.72,-69.1C128.7,-59.49 111.66,-48.89 97.68,-39.84\"/>\n",
       "<polygon fill=\"black\" stroke=\"black\" stroke-width=\"1.5\" points=\"99.83,-37.07 89.55,-34.51 95.99,-42.92 99.83,-37.07\"/>\n",
       "</g>\n",
       "<!-- Gerador de correos&#45;&gt;sales_agent3 -->\n",
       "<g id=\"edge13\" class=\"edge\">\n",
       "<title>Gerador de correos&#45;&gt;sales_agent3</title>\n",
       "<path fill=\"none\" stroke=\"black\" stroke-width=\"1.5\" stroke-dasharray=\"1,5\" d=\"M239.96,-69.1C257.58,-58.74 277.85,-47.24 295.25,-37.76\"/>\n",
       "<polygon fill=\"black\" stroke=\"black\" stroke-width=\"1.5\" points=\"296.53,-41.05 303.67,-33.22 293.2,-34.89 296.53,-41.05\"/>\n",
       "</g>\n",
       "</g>\n",
       "</svg>\n"
      ],
      "text/plain": [
       "<graphviz.sources.Source at 0x115d786b0>"
      ]
     },
     "execution_count": 64,
     "metadata": {},
     "output_type": "execute_result"
    }
   ],
   "source": [
    "# Visualize the graph (see more here: https://openai.github.io/openai-agents-python/visualization)\n",
    "\n",
    "# Prerequisites:\n",
    "# - Installing the visualization extension: uv add \"openai-agents[viz]\"\n",
    "# - Installing graphviz (if you don't have it already): \n",
    "# -- Mac: brew install graphviz\n",
    "# -- Windows: visit https://graphviz.org/download/\n",
    "\n",
    "# Install graphviz if not available\n",
    "try:\n",
    "    from agents.extensions.visualization import draw_graph\n",
    "except ModuleNotFoundError:\n",
    "    print(\"Installing graphviz dependency...\")\n",
    "    import subprocess\n",
    "    import sys\n",
    "    \n",
    "    # Install graphviz Python package\n",
    "    subprocess.check_call([sys.executable, \"-m\", \"pip\", \"install\", \"graphviz\"])\n",
    "    \n",
    "    # Try import again\n",
    "    from agents.extensions.visualization import draw_graph\n",
    "    print(\"✅ Graphviz installed successfully!\")\n",
    "\n",
    "# Visualize the main networking manager\n",
    "draw_graph(sales_manager)"
   ]
  },
  {
   "cell_type": "markdown",
   "metadata": {},
   "source": [
    "### Remember to check the trace\n",
    "\n",
    "https://platform.openai.com/traces\n",
    "\n",
    "And then check your email!!"
   ]
  },
  {
   "cell_type": "markdown",
   "metadata": {},
   "source": [
    "<table style=\"margin: 0; text-align: left; width:100%\">\n",
    "    <tr>\n",
    "        <td style=\"width: 150px; height: 150px; vertical-align: middle;\">\n",
    "            <img src=\"../assets/exercise.png\" width=\"150\" height=\"150\" style=\"display: block;\" />\n",
    "        </td>\n",
    "        <td>\n",
    "            <h2 style=\"color:#ff7800;\">Exercise</h2>\n",
    "            <span style=\"color:#ff7800;\">Can you identify the Agentic design patterns that were used here?<br/>\n",
    "            What is the 1 line that changed this from being an Agentic \"workflow\" to \"agent\" under Anthropic's definition?<br/>\n",
    "            Try adding in more tools and Agents! You could have tools that handle the mail merge to send to a list.<br/><br/>\n",
    "            HARD CHALLENGE: research how you can have SendGrid call a Callback webhook when a user replies to an email,\n",
    "            Then have the SDR respond to keep the conversation going! This may require some \"vibe coding\" 😂\n",
    "            </span>\n",
    "        </td>\n",
    "    </tr>\n",
    "</table>"
   ]
  },
  {
   "cell_type": "markdown",
   "metadata": {},
   "source": [
    "<table style=\"margin: 0; text-align: left; width:100%\">\n",
    "    <tr>\n",
    "        <td style=\"width: 150px; height: 150px; vertical-align: middle;\">\n",
    "            <img src=\"../assets/business.png\" width=\"150\" height=\"150\" style=\"display: block;\" />\n",
    "        </td>\n",
    "        <td>\n",
    "            <h2 style=\"color:#00bfff;\">Commercial implications</h2>\n",
    "            <span style=\"color:#00bfff;\">This is immediately applicable to Sales Automation; but more generally this could be applied to  end-to-end automation of any business process through conversations and tools. Think of ways you could apply an Agent solution\n",
    "            like this in your day job.\n",
    "            </span>\n",
    "        </td>\n",
    "    </tr>\n",
    "</table>"
   ]
  },
  {
   "cell_type": "markdown",
   "metadata": {},
   "source": [
    "## Extra note:\n",
    "\n",
    "Google has announced their Agent Development Kit (ADK) which is in early preview. It's still under development, so it's too early for us to cover it here. But it's interesting to note that it looks quite similar to OpenAI Agents SDK. To give you a preview, here's a peak at sample code from ADK:\n",
    "\n",
    "```\n",
    "root_agent = Agent(\n",
    "    name=\"weather_time_agent\",\n",
    "    model=\"gemini-2.0-flash\",\n",
    "    description=\"Agent to answer questions about the time and weather in a city.\",\n",
    "    instruction=\"You are a helpful agent who can answer user questions about the time and weather in a city.\",\n",
    "    tools=[get_weather, get_current_time]\n",
    ")\n",
    "```\n",
    "\n",
    "Well, that looks familiar!"
   ]
  }
 ],
 "metadata": {
  "kernelspec": {
   "display_name": ".venv",
   "language": "python",
   "name": "python3"
  },
  "language_info": {
   "codemirror_mode": {
    "name": "ipython",
    "version": 3
   },
   "file_extension": ".py",
   "mimetype": "text/x-python",
   "name": "python",
   "nbconvert_exporter": "python",
   "pygments_lexer": "ipython3",
   "version": "3.12.10"
  }
 },
 "nbformat": 4,
 "nbformat_minor": 2
}
