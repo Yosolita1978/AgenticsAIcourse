{
 "cells": [
  {
   "cell_type": "markdown",
   "metadata": {},
   "source": [
    "## Week 2 Day 2\n",
    "\n",
    "Our first Agentic Framework project!!\n",
    "\n",
    "Prepare yourself for something ridiculously easy.\n",
    "\n",
    "We're going to build a simple Agent system for generating cold sales outreach emails:\n",
    "1. Agent workflow\n",
    "2. Use of tools to call functions\n",
    "3. Agent collaboration via Tools and Handoffs"
   ]
  },
  {
   "cell_type": "markdown",
   "metadata": {},
   "source": [
    "## Before we start - some setup:\n",
    "\n",
    "\n",
    "Please visit Sendgrid at: https://sendgrid.com/\n",
    "\n",
    "(Sendgrid is a Twilio company for sending emails.)\n",
    "\n",
    "Please set up an account - it's free! (at least, for me, right now).\n",
    "\n",
    "Once you've created an account, click on:\n",
    "\n",
    "Settings (left sidebar) >> API Keys >> Create API Key (button on top right)\n",
    "\n",
    "Copy the key to the clipboard, then add a new line to your .env file:\n",
    "\n",
    "`SENDGRID_API_KEY=xxxx`\n",
    "\n",
    "And also, within SendGrid, go to:\n",
    "\n",
    "Settings (left sidebar) >> Sender Authentication >> \"Verify a Single Sender\"  \n",
    "and verify that your own email address is a real email address, so that SendGrid can send emails for you.\n"
   ]
  },
  {
   "cell_type": "code",
   "execution_count": 65,
   "metadata": {},
   "outputs": [],
   "source": [
    "from dotenv import load_dotenv\n",
    "from agents import Agent, Runner, trace, function_tool\n",
    "from openai.types.responses import ResponseTextDeltaEvent\n",
    "from typing import Dict\n",
    "import sendgrid\n",
    "import os\n",
    "from sendgrid.helpers.mail import Mail, Email, To, Content\n",
    "import asyncio\n",
    "import gradio as gr\n"
   ]
  },
  {
   "cell_type": "code",
   "execution_count": null,
   "metadata": {},
   "outputs": [],
   "source": [
    "load_dotenv(override=True)"
   ]
  },
  {
   "cell_type": "markdown",
   "metadata": {},
   "source": [
    "## Step 1: Agent workflow"
   ]
  },
  {
   "cell_type": "code",
   "execution_count": 67,
   "metadata": {},
   "outputs": [],
   "source": [
    "instructions1 = \"\"\"Eres un agente de ventas de TechConmigo.\n",
    "TechConmigo es una organización que ofrece formación práctica en negocios, tecnología e inteligencia artificial para mujeres de pequeñas y medianas empresas.\n",
    "Escribes correos comerciales para clientes potenciales profesionales, claros y formales que reflejan la misión de empoderar y educar de TechConmigo.\"\"\"\n",
    "\n",
    "instructions2 = \"\"\"Eres un agente de ventas divertido y encantador que trabaja para TechConmigo,\n",
    "una organización que ofrece formación práctica en negocios, tecnología e inteligencia artificial para mujeres de pequeñas y medianas empresas.\n",
    "Escribes correos comerciales para clientes potenciales ingeniosos, cercanos e inspiradores que despiertan curiosidad e invitan a inscribirse.\"\"\"\n",
    "\n",
    "instructions3 = \"\"\"Eres un agente de ventas muy ocupado que trabaja para TechConmigo,\n",
    "una organización que ofrece formación práctica en negocios, tecnología e inteligencia artificial para mujeres de pequeñas y medianas empresas.\n",
    "Escribes correos comerciales para clientes potenciales concisos y directos que destacan el valor y presentan un llamado a la acción claro.\"\"\"\n"
   ]
  },
  {
   "cell_type": "code",
   "execution_count": 68,
   "metadata": {},
   "outputs": [],
   "source": [
    "sales_agent1 = Agent(\n",
    "        name=\"Agente de Ventas Profesional\",\n",
    "        instructions=instructions1,\n",
    "        model=\"gpt-4o-mini\"\n",
    ")\n",
    "\n",
    "sales_agent2 = Agent(\n",
    "        name=\"Agente de Ventas Persuasivo\",\n",
    "        instructions=instructions2,\n",
    "        model=\"gpt-4o-mini\"\n",
    ")\n",
    "\n",
    "sales_agent3 = Agent(\n",
    "        name=\"Agente de Ventas Formal\",\n",
    "        instructions=instructions3,\n",
    "        model=\"gpt-4o-mini\"\n",
    ")"
   ]
  },
  {
   "cell_type": "code",
   "execution_count": null,
   "metadata": {},
   "outputs": [],
   "source": [
    "\n",
    "result = Runner.run_streamed(sales_agent1, input=\"Redacta un correo de ventas no solicitado\")\n",
    "async for event in result.stream_events():\n",
    "    if event.type == \"raw_response_event\" and isinstance(event.data, ResponseTextDeltaEvent):\n",
    "        print(event.data.delta, end=\"\", flush=True)"
   ]
  },
  {
   "cell_type": "code",
   "execution_count": null,
   "metadata": {},
   "outputs": [],
   "source": [
    "message = \"Redacta un correo de ventas no solicitado\"\n",
    "\n",
    "with trace(\"Correos de ventas en paralelo\"):\n",
    "    results = await asyncio.gather(\n",
    "        Runner.run(sales_agent1, message),\n",
    "        Runner.run(sales_agent2, message),\n",
    "        Runner.run(sales_agent3, message),\n",
    "    )\n",
    "\n",
    "outputs = [result.final_output for result in results]\n",
    "\n",
    "for output in outputs:\n",
    "    print(output + \"\\n\\n\")\n"
   ]
  },
  {
   "cell_type": "code",
   "execution_count": 71,
   "metadata": {},
   "outputs": [],
   "source": [
    "sales_picker = Agent(\n",
    "    name=\"seleccionador de correos\",\n",
    "    instructions=\"Eres un agente de ventas que selecciona el mejor correo de ventas no solicitado de las opciones dadas. \\\n",
    "Imagina que eres un cliente y eliges el que tienes más probabilidades de responder. \\\n",
    "No des una explicación; responde solo con el correo seleccionado.\",\n",
    "    model=\"gpt-4o-mini\"\n",
    ")"
   ]
  },
  {
   "cell_type": "code",
   "execution_count": null,
   "metadata": {},
   "outputs": [],
   "source": [
    "message = \"Redacta un correo de ventas no solicitado\"\n",
    "\n",
    "with trace(\"Selección de correos de ventas\"):\n",
    "    results = await asyncio.gather(\n",
    "        Runner.run(sales_agent1, message),\n",
    "        Runner.run(sales_agent2, message),\n",
    "        Runner.run(sales_agent3, message),\n",
    "    )\n",
    "    outputs = [result.final_output for result in results]\n",
    "\n",
    "    emails = \"Correos de ventas:\\n\\n\".join(outputs)\n",
    "\n",
    "    best = await Runner.run(sales_picker, emails)\n",
    "\n",
    "    print(f\"Mejor correo de ventas:\\n{best.final_output}\")\n"
   ]
  },
  {
   "cell_type": "markdown",
   "metadata": {},
   "source": [
    "Now go and check out the trace:\n",
    "\n",
    "https://platform.openai.com/traces"
   ]
  },
  {
   "cell_type": "markdown",
   "metadata": {},
   "source": [
    "## Part 2: use of tools\n",
    "\n",
    "Now we will add a tool to the mix.\n",
    "\n",
    "Remember all that json boilerplate and the `handle_tool_calls()` function with the if logic.."
   ]
  },
  {
   "cell_type": "code",
   "execution_count": 73,
   "metadata": {},
   "outputs": [],
   "source": [
    "sales_agent1 = Agent(\n",
    "        name=\"Agente de Ventas Profesional\",\n",
    "        instructions=instructions1,\n",
    "        model=\"gpt-4o-mini\",\n",
    ")\n",
    "\n",
    "sales_agent2 = Agent(\n",
    "        name=\"Agente de Ventas Persuasivo\",\n",
    "        instructions=instructions2,\n",
    "        model=\"gpt-4o-mini\",\n",
    ")\n",
    "\n",
    "sales_agent3 = Agent(\n",
    "        name=\"Agente de Ventas Formal\",\n",
    "        instructions=instructions3,\n",
    "        model=\"gpt-4o-mini\",\n",
    ")"
   ]
  },
  {
   "cell_type": "code",
   "execution_count": null,
   "metadata": {},
   "outputs": [],
   "source": [
    "sales_agent1"
   ]
  },
  {
   "cell_type": "markdown",
   "metadata": {},
   "source": [
    "## Steps 2 and 3: Tools and Agent interactions\n",
    "\n",
    "Remember all that boilerplate json?\n",
    "\n",
    "Simply wrap your function with the decorator `@function_tool`"
   ]
  },
  {
   "cell_type": "code",
   "execution_count": 75,
   "metadata": {},
   "outputs": [],
   "source": [
    "@function_tool\n",
    "def send_email(body: str):\n",
    "    \"\"\" Envía un correo con el contenido proporcionado a todos los prospectos de ventas \"\"\"\n",
    "    try:\n",
    "        sg = sendgrid.SendGridAPIClient(api_key=os.environ.get('SENDGRID_API_KEY'))\n",
    "        from_email = Email(\"yosola@yosola.co\")  # Change to your verified sender\n",
    "        to_email = To(\"yosola@gmail.com\")  # Change to your recipient\n",
    "        content = Content(\"text/plain\", body)\n",
    "        mail = Mail(from_email, to_email, \"Correo de ventas potencial\", content).get()\n",
    "        response = sg.client.mail.send.post(request_body=mail)\n",
    "        return {\"status\": \"success\"}\n",
    "    except Exception as e:\n",
    "        return {\"status\": \"error\", \"message\": str(e)}"
   ]
  },
  {
   "cell_type": "markdown",
   "metadata": {},
   "source": [
    "### This has automatically been converted into a tool, with the boilerplate json created"
   ]
  },
  {
   "cell_type": "code",
   "execution_count": null,
   "metadata": {},
   "outputs": [],
   "source": [
    "# Let's look at it\n",
    "send_email\n",
    "print(send_email)"
   ]
  },
  {
   "cell_type": "markdown",
   "metadata": {},
   "source": [
    "### And you can also convert an Agent into a tool"
   ]
  },
  {
   "cell_type": "code",
   "execution_count": null,
   "metadata": {},
   "outputs": [],
   "source": [
    "tool1 = sales_agent1.as_tool(tool_name=\"sales_agent1\", tool_description=\"Write a cold sales email\")\n",
    "tool1"
   ]
  },
  {
   "cell_type": "markdown",
   "metadata": {},
   "source": [
    "### So now we can gather all the tools together:\n",
    "\n",
    "A tool for each of our 3 email-writing agents\n",
    "\n",
    "And a tool for our function to send emails"
   ]
  },
  {
   "cell_type": "code",
   "execution_count": null,
   "metadata": {},
   "outputs": [],
   "source": [
    "description = \"Redacta un correo de ventas para clientes potenciales\"\n",
    "\n",
    "tool1 = sales_agent1.as_tool(tool_name=\"sales_agent1\", tool_description=description)\n",
    "tool2 = sales_agent2.as_tool(tool_name=\"sales_agent2\", tool_description=description)\n",
    "tool3 = sales_agent3.as_tool(tool_name=\"sales_agent3\", tool_description=description)\n",
    "\n",
    "tools = [tool1, tool2, tool3, send_email]\n",
    "\n",
    "tools"
   ]
  },
  {
   "cell_type": "markdown",
   "metadata": {},
   "source": [
    "## And now it's time for our Sales Manager - our planning agent"
   ]
  },
  {
   "cell_type": "code",
   "execution_count": 79,
   "metadata": {},
   "outputs": [],
   "source": [
    "instructions = \"\"\"Eres un manager de ventas que trabaja para TechConmigo. Utilizas las herramientas proporcionadas para generar correos de ventas dirigidos a clientes potenciales.\n",
    "\n",
    "Nunca generas correos tú mismo; siempre usas las herramientas.\n",
    "\n",
    "Los correos deben estar redactados en español, con saludos y cierres genéricos. No incluyas campos como [Nombre del CEO], [Tu Nombre] o [Tu Puesto]. \n",
    "En su lugar, utiliza frases neutrales como 'Estimado equipo' o simplemente firma con 'El equipo de TechConmigo'.\n",
    "\n",
    "Intentas las tres herramientas de generación de correos una vez antes de elegir el mejor.\n",
    "Luego usas la herramienta send_email para enviar únicamente el mejor correo generado.\"\"\"\n",
    "\n",
    "\n",
    "sales_manager = Agent(name=\"Manager de ventas\", instructions=instructions, tools=tools, model=\"gpt-4o-mini\")\n",
    "\n",
    "message = \"Envía un correo de ventas no solicitado en español, usando un saludo y firma genéricos, dirigido a una empresa interesada en tecnología e inteligencia artificial.\"\n",
    "\n",
    "with trace(\"Manager de ventas\"):\n",
    "    result = await Runner.run(sales_manager, message)"
   ]
  },
  {
   "cell_type": "code",
   "execution_count": null,
   "metadata": {},
   "outputs": [],
   "source": [
    "print(result)"
   ]
  },
  {
   "cell_type": "markdown",
   "metadata": {},
   "source": [
    "<table style=\"margin: 0; text-align: left; width:100%\">\n",
    "    <tr>\n",
    "        <td style=\"width: 150px; height: 150px; vertical-align: middle;\">\n",
    "            <img src=\"../assets/stop.png\" width=\"150\" height=\"150\" style=\"display: block;\" />\n",
    "        </td>\n",
    "        <td>\n",
    "            <h2 style=\"color:#ff7800;\">Wait - you didn't get an email??</h2>\n",
    "            <span style=\"color:#ff7800;\">With much thanks to student Chris S. for describing his issue and fixes. \n",
    "            If you don't receive an email after running the prior cell, here are some things to check: <br/>\n",
    "            First, check your Spam folder! Several students have missed that the emails arrived in Spam!<br/>Second, print(result) and see if you are receiving errors about SSL. \n",
    "            If you're receiving SSL errors, then please check out theses <a href=\"https://chatgpt.com/share/680620ec-3b30-8012-8c26-ca86693d0e3d\">networking tips</a> and see the note in the next cell. Also look at the trace in OpenAI, and investigate on the SendGrid website, to hunt for clues. Let me know if I can help!\n",
    "            </span>\n",
    "        </td>\n",
    "    </tr>\n",
    "</table>"
   ]
  },
  {
   "cell_type": "markdown",
   "metadata": {},
   "source": [
    "### And one more suggestion to send emails from student Oleksandr on Windows 11:\n",
    "\n",
    "If you are getting certificate SSL errors, then:  \n",
    "Run this in a terminal: `uv pip install --upgrade certifi`\n",
    "\n",
    "Then run this code:\n",
    "```python\n",
    "import certifi\n",
    "import os\n",
    "os.environ['SSL_CERT_FILE'] = certifi.where()\n",
    "```\n",
    "\n",
    "Thank you Oleksandr!"
   ]
  },
  {
   "cell_type": "markdown",
   "metadata": {},
   "source": [
    "## Remember to check the trace\n",
    "\n",
    "https://platform.openai.com/traces\n",
    "\n",
    "And then check your email!!\n"
   ]
  },
  {
   "cell_type": "markdown",
   "metadata": {},
   "source": [
    "### Handoffs represent a way an agent can delegate to an agent, passing control to it\n",
    "\n",
    "Handoffs and Agents-as-tools are similar:\n",
    "\n",
    "In both cases, an Agent can collaborate with another Agent\n",
    "\n",
    "With tools, control passes back\n",
    "\n",
    "With handoffs, control passes across\n",
    "\n"
   ]
  },
  {
   "cell_type": "code",
   "execution_count": 81,
   "metadata": {},
   "outputs": [],
   "source": [
    "# Instrucciones para generar el asunto de un correo de ventas en frío\n",
    "subject_instructions = \"Puedes redactar un asunto para un correo de ventas en frío. \\\n",
    "Se te proporciona un mensaje y necesitas escribir un asunto para un correo electrónico que sea probable que reciba una respuesta.\"\n",
    "\n",
    "# Instrucciones para convertir el cuerpo del correo a HTML\n",
    "html_instructions = \"Puedes convertir el cuerpo de un correo en texto plano a HTML. \\\n",
    "Se te proporciona un cuerpo de correo en texto, que puede contener algo de markdown, \\\n",
    "y necesitas convertirlo en un cuerpo de correo HTML con un diseño simple, claro y atractivo.\"\n",
    "\n",
    "# Agente para generar el asunto del correo\n",
    "subject_writer = Agent(name=\"Redactor de asuntos de correo\", instructions=subject_instructions, model=\"gpt-4o-mini\")\n",
    "subject_tool = subject_writer.as_tool(tool_name=\"subject_writer\", tool_description=\"Redacta el asunto para un correo de ventas en frío\")\n",
    "\n",
    "# Agente para convertir el correo a HTML\n",
    "html_converter = Agent(name=\"Convertidor de correos a HTML\", instructions=html_instructions, model=\"gpt-4o-mini\")\n",
    "html_tool = html_converter.as_tool(tool_name=\"html_converter\", tool_description=\"Convierte un cuerpo de correo en texto a formato HTML\")\n",
    "\n"
   ]
  },
  {
   "cell_type": "code",
   "execution_count": 82,
   "metadata": {},
   "outputs": [],
   "source": [
    "@function_tool\n",
    "def send_html_email(subject: str, html_body: str) -> Dict[str, str]:\n",
    "    \"\"\" Send out an email with the given subject and HTML body to all sales prospects \"\"\"\n",
    "    sg = sendgrid.SendGridAPIClient(api_key=os.environ.get('SENDGRID_API_KEY'))\n",
    "    from_email = Email(\"yosola@yosola.co\")  # Change to your verified sender\n",
    "    to_email = To(\"yosola@gmail.com\")  # Change to your recipient\n",
    "    content = Content(\"text/html\", html_body)\n",
    "    mail = Mail(from_email, to_email, subject, content).get()\n",
    "    response = sg.client.mail.send.post(request_body=mail)\n",
    "    return {\"status\": \"success\"}"
   ]
  },
  {
   "cell_type": "code",
   "execution_count": 83,
   "metadata": {},
   "outputs": [],
   "source": [
    "tools = [subject_tool, html_tool, send_html_email]"
   ]
  },
  {
   "cell_type": "code",
   "execution_count": null,
   "metadata": {},
   "outputs": [],
   "source": [
    "tools"
   ]
  },
  {
   "cell_type": "code",
   "execution_count": 85,
   "metadata": {},
   "outputs": [],
   "source": [
    "instructions = \"\"\"Eres un formateador y remitente de correos electrónicos. Recibes el cuerpo de un correo que debe ser enviado.\n",
    "Los correos deben estar redactados en español, con saludos y cierres genéricos. No incluyas campos como [Nombre del CEO], [Tu Nombre] o [Tu Puesto].\n",
    "En su lugar, utiliza frases neutrales como 'Estimado equipo' o simplemente firma con 'El equipo de TechConmigo'.\n",
    "\n",
    "Primero usas la herramienta subject_writer para redactar un asunto para el correo, luego usas la herramienta html_converter para convertir el cuerpo a formato HTML.\n",
    "Finalmente, usas la herramienta send_html_email para enviar el correo con el asunto y el cuerpo en HTML.\"\"\"\n",
    "\n",
    "\n",
    "emailer_agent = Agent(\n",
    "    name=\"Gerador de correos\",\n",
    "    instructions=instructions,\n",
    "    tools=tools,\n",
    "    model=\"gpt-4o-mini\",\n",
    "    handoff_description=\"Convierte un correo a HTML y lo envía\")\n"
   ]
  },
  {
   "cell_type": "markdown",
   "metadata": {},
   "source": [
    "### Now we have 3 tools and 1 handoff"
   ]
  },
  {
   "cell_type": "code",
   "execution_count": null,
   "metadata": {},
   "outputs": [],
   "source": [
    "tools = [tool1, tool2, tool3]\n",
    "handoffs = [emailer_agent]\n",
    "print(tools)\n",
    "print(handoffs)"
   ]
  },
  {
   "cell_type": "code",
   "execution_count": 87,
   "metadata": {},
   "outputs": [],
   "source": [
    "sales_manager_instructions = \"Eres un gerente de ventas que trabaja para TechConmigo. Utilizas las herramientas que se te proporcionan para generar correos de ventas en frío. \\\n",
    "Nunca generas los correos tú mismo; siempre utilizas las herramientas. \\\n",
    "Pruebas las 3 herramientas de agentes de ventas al menos una vez antes de elegir la mejor opción. \\\n",
    "Puedes usar las herramientas varias veces si no estás satisfecho con los resultados del primer intento. \\\n",
    "Seleccionas el único mejor correo utilizando tu propio criterio sobre cuál será el más efectivo. \\\n",
    "Después de elegir el correo, lo entregas al agente Gestor de Correos para que lo formatee y lo envíe.\"\n",
    "\n",
    "\n",
    "sales_manager = Agent(\n",
    "    name=\"Gerente de ventas\",\n",
    "    instructions=sales_manager_instructions,\n",
    "    tools=tools,\n",
    "    handoffs=handoffs,\n",
    "    model=\"gpt-4o-mini\")\n",
    "\n",
    "message = \"Envía un correo de ventas a un cliente potencial dirigido a todo el equipo de trabajo desde la cuenta de Cristina, email: yosola@yosola.co, CTO de TechConmigo\"\n",
    "\n",
    "with trace(\"Automated SDR\"):\n",
    "    result = await Runner.run(sales_manager, message)"
   ]
  },
  {
   "cell_type": "code",
   "execution_count": null,
   "metadata": {},
   "outputs": [],
   "source": [
    "# Visualize the graph (see more here: https://openai.github.io/openai-agents-python/visualization)\n",
    "\n",
    "# Prerequisites:\n",
    "# - Installing the visualization extension: uv add \"openai-agents[viz]\"\n",
    "# - Installing graphviz (if you don't have it already): \n",
    "# -- Mac: brew install graphviz\n",
    "# -- Windows: visit https://graphviz.org/download/\n",
    "\n",
    "# Install graphviz if not available\n",
    "try:\n",
    "    from agents.extensions.visualization import draw_graph\n",
    "except ModuleNotFoundError:\n",
    "    print(\"Installing graphviz dependency...\")\n",
    "    import subprocess\n",
    "    import sys\n",
    "    \n",
    "    # Install graphviz Python package\n",
    "    subprocess.check_call([sys.executable, \"-m\", \"pip\", \"install\", \"graphviz\"])\n",
    "    \n",
    "    # Try import again\n",
    "    from agents.extensions.visualization import draw_graph\n",
    "    print(\"✅ Graphviz installed successfully!\")\n",
    "\n",
    "# Visualize the main networking manager\n",
    "draw_graph(sales_manager)"
   ]
  },
  {
   "cell_type": "code",
   "execution_count": 88,
   "metadata": {},
   "outputs": [],
   "source": [
    "# Simple async function that uses the existing Jupyter event loop\n",
    "async def run_sales_manager_async(message):\n",
    "    \"\"\"Async function that runs in Jupyter's existing event loop\"\"\"\n",
    "    try:\n",
    "        if not message.strip():\n",
    "            return \"❌ Por favor, ingresa un mensaje válido.\"\n",
    "        \n",
    "        # This will run in the existing Jupyter event loop\n",
    "        result = await Runner.run(sales_manager, message)\n",
    "        \n",
    "        # Get the final output\n",
    "        final_output = result.final_output if hasattr(result, 'final_output') else str(result)\n",
    "        \n",
    "        return f\"✅ **Proceso completado exitosamente!**\\n\\n**Resultado:**\\n{final_output}\"\n",
    "        \n",
    "    except Exception as e:\n",
    "        return f\"❌ **Error durante el proceso:**\\n{str(e)}\"\n"
   ]
  },
  {
   "cell_type": "code",
   "execution_count": 89,
   "metadata": {},
   "outputs": [],
   "source": [
    "# Create Gradio Interface for Jupyter\n",
    "def create_sales_interface():\n",
    "    with gr.Blocks(\n",
    "        title=\"TechConmigo - Generador de Correos\",\n",
    "        theme=gr.themes.Soft()\n",
    "    ) as demo:\n",
    "        \n",
    "        gr.Markdown(\"\"\"\n",
    "        # 🚀 TechConmigo - Generador de Correos de Ventas\n",
    "        \n",
    "        Sistema automatizado para generar y enviar correos de ventas personalizados usando IA.\n",
    "        \"\"\")\n",
    "        \n",
    "        with gr.Tab(\"📧 Generar Correo\"):\n",
    "            with gr.Row():\n",
    "                with gr.Column(scale=3):\n",
    "                    message_input = gr.Textbox(\n",
    "                        label=\"Describe el correo que necesitas\",\n",
    "                        placeholder=\"Ejemplo: Envía un correo de ventas dirigido a empresas interesadas en capacitación en IA para sus equipos femeninos...\",\n",
    "                        lines=4,\n",
    "                        max_lines=6\n",
    "                    )\n",
    "                    \n",
    "                    with gr.Row():\n",
    "                        generate_btn = gr.Button(\n",
    "                            \"🚀 Generar y Enviar\", \n",
    "                            variant=\"primary\",\n",
    "                            scale=2\n",
    "                        )\n",
    "                        clear_btn = gr.Button(\n",
    "                            \"🗑️ Limpiar\",\n",
    "                            scale=1\n",
    "                        )\n",
    "                \n",
    "                with gr.Column(scale=2):\n",
    "                    gr.Markdown(\"\"\"\n",
    "                    ### 📋 Ejemplos:\n",
    "                    \n",
    "                    • **Startups tech:** *\"Correo para startups interesadas en capacitar equipos femeninos en IA\"*\n",
    "                    \n",
    "                    • **Transformación digital:** *\"Email para empresas que buscan implementar transformación digital\"*\n",
    "                    \n",
    "                    • **Emprendedoras:** *\"Correo para emprendedoras interesadas en negocios digitales\"*\n",
    "                    \"\"\")\n",
    "            \n",
    "            output_text = gr.Textbox(\n",
    "                label=\"📤 Resultado del proceso\",\n",
    "                lines=8,\n",
    "                max_lines=15,\n",
    "                interactive=False,\n",
    "                show_copy_button=True\n",
    "            )\n",
    "        \n",
    "        with gr.Tab(\"ℹ️ Información\"):\n",
    "            gr.Markdown(\"\"\"\n",
    "            ## ¿Cómo funciona el sistema?\n",
    "            \n",
    "            1. **Generación múltiple**: El sistema usa 3 agentes especializados para crear diferentes versiones del correo\n",
    "            2. **Selección automática**: Elige automáticamente la mejor opción basada en criterios de efectividad\n",
    "            3. **Formateo profesional**: Convierte el correo a HTML con diseño atractivo\n",
    "            4. **Envío automático**: Envía el correo usando SendGrid\n",
    "            \n",
    "            ## Configuración necesaria:\n",
    "            \n",
    "            - `SENDGRID_API_KEY`: Tu clave de API de SendGrid\n",
    "            - `OPENAI_API_KEY`: Tu clave de API de OpenAI\n",
    "            \n",
    "            ## Agentes especializados:\n",
    "            \n",
    "            - **Profesional**: Correos formales y claros\n",
    "            - **Persuasivo**: Correos creativos e inspiradores  \n",
    "            - **Directo**: Correos concisos con llamadas a la acción claras\n",
    "            \"\"\")\n",
    "        \n",
    "        # Event handlers - these will run in Jupyter's event loop\n",
    "        generate_btn.click(\n",
    "            fn=run_sales_manager_async,\n",
    "            inputs=[message_input],\n",
    "            outputs=[output_text]\n",
    "        )\n",
    "        \n",
    "        clear_btn.click(\n",
    "            lambda: (\"\", \"\"),\n",
    "            inputs=[],\n",
    "            outputs=[message_input, output_text]\n",
    "        )\n",
    "        \n",
    "        message_input.submit(\n",
    "            fn=run_sales_manager_async,\n",
    "            inputs=[message_input],\n",
    "            outputs=[output_text]\n",
    "        )\n",
    "    \n",
    "    return demo\n"
   ]
  },
  {
   "cell_type": "code",
   "execution_count": 90,
   "metadata": {},
   "outputs": [],
   "source": [
    "# Simple launch function for Jupyter\n",
    "def launch_sales_app():\n",
    "    \"\"\"Launch the Gradio app in Jupyter environment\"\"\"\n",
    "    demo = create_sales_interface()\n",
    "    \n",
    "    # Launch with Jupyter-optimized settings\n",
    "    demo.launch(\n",
    "        inline=True,           # Display inline in Jupyter\n",
    "        share=False,           # Don't create public link\n",
    "        debug=True,            # Show debug info\n",
    "        show_error=True,       # Show errors in interface\n",
    "        height=800,            # Set height for Jupyter\n",
    "        quiet=True             # Reduce console output\n",
    "    )\n",
    "    \n",
    "    return demo"
   ]
  },
  {
   "cell_type": "code",
   "execution_count": null,
   "metadata": {},
   "outputs": [],
   "source": [
    "# Simple launch function for Jupyter\n",
    "def launch_sales_app():\n",
    "    \"\"\"Launch the Gradio app in Jupyter environment\"\"\"\n",
    "    demo = create_sales_interface()\n",
    "    \n",
    "    # Launch with Jupyter-optimized settings\n",
    "    demo.launch(\n",
    "        inline=True,           # Display inline in Jupyter\n",
    "        share=False,           # Don't create public link\n",
    "        debug=True,            # Show debug info\n",
    "        show_error=True,       # Show errors in interface\n",
    "        height=800,            # Set height for Jupyter\n",
    "        quiet=True             # Reduce console output\n",
    "    )\n",
    "    \n",
    "    return demo\n",
    "\n",
    "# Helper function to stop the interface\n",
    "def stop_sales_app(demo):\n",
    "    \"\"\"Stop the Gradio interface\"\"\"\n",
    "    try:\n",
    "        demo.close()\n",
    "        print(\"✅ Interfaz cerrada correctamente\")\n",
    "    except Exception as e:\n",
    "        print(f\"⚠️ Error al cerrar: {e}\")\n",
    "        print(\"💡 Intenta interrumpir el kernel (Ctrl+C)\")\n",
    "\n",
    "# Global demo variable for easy access\n",
    "current_demo = None\n",
    "\n",
    "def launch_and_track():\n",
    "    \"\"\"Launch and keep track of the demo for easy stopping\"\"\"\n",
    "    global current_demo\n",
    "    if current_demo:\n",
    "        try:\n",
    "            current_demo.close()\n",
    "        except:\n",
    "            pass\n",
    "    \n",
    "    current_demo = launch_sales_app()\n",
    "    print(\"💡 Para detener, ejecuta: stop_current_demo()\")\n",
    "    return current_demo\n",
    "\n",
    "def stop_current_demo():\n",
    "    \"\"\"Stop the currently running demo\"\"\"\n",
    "    global current_demo\n",
    "    if current_demo:\n",
    "        stop_sales_app(current_demo)\n",
    "        current_demo = None\n",
    "    else:\n",
    "        print(\"❌ No hay interfaz activa\")\n",
    "\n",
    "# Ready to use\n",
    "print(\"✅ Sales Manager configurado correctamente!\")\n",
    "print(\"📱 Para lanzar la interfaz, ejecuta:\")\n",
    "print(\"   demo = launch_sales_app()\")\n",
    "\n",
    "# Or uncomment to auto-launch:\n",
    "launch_sales_app()"
   ]
  },
  {
   "cell_type": "code",
   "execution_count": null,
   "metadata": {},
   "outputs": [],
   "source": [
    "stop_sales_app()"
   ]
  },
  {
   "cell_type": "markdown",
   "metadata": {},
   "source": [
    "### Remember to check the trace\n",
    "\n",
    "https://platform.openai.com/traces\n",
    "\n",
    "And then check your email!!"
   ]
  },
  {
   "cell_type": "markdown",
   "metadata": {},
   "source": [
    "<table style=\"margin: 0; text-align: left; width:100%\">\n",
    "    <tr>\n",
    "        <td style=\"width: 150px; height: 150px; vertical-align: middle;\">\n",
    "            <img src=\"../assets/exercise.png\" width=\"150\" height=\"150\" style=\"display: block;\" />\n",
    "        </td>\n",
    "        <td>\n",
    "            <h2 style=\"color:#ff7800;\">Exercise</h2>\n",
    "            <span style=\"color:#ff7800;\">Can you identify the Agentic design patterns that were used here?<br/>\n",
    "            What is the 1 line that changed this from being an Agentic \"workflow\" to \"agent\" under Anthropic's definition?<br/>\n",
    "            Try adding in more tools and Agents! You could have tools that handle the mail merge to send to a list.<br/><br/>\n",
    "            HARD CHALLENGE: research how you can have SendGrid call a Callback webhook when a user replies to an email,\n",
    "            Then have the SDR respond to keep the conversation going! This may require some \"vibe coding\" 😂\n",
    "            </span>\n",
    "        </td>\n",
    "    </tr>\n",
    "</table>"
   ]
  },
  {
   "cell_type": "markdown",
   "metadata": {},
   "source": [
    "<table style=\"margin: 0; text-align: left; width:100%\">\n",
    "    <tr>\n",
    "        <td style=\"width: 150px; height: 150px; vertical-align: middle;\">\n",
    "            <img src=\"../assets/business.png\" width=\"150\" height=\"150\" style=\"display: block;\" />\n",
    "        </td>\n",
    "        <td>\n",
    "            <h2 style=\"color:#00bfff;\">Commercial implications</h2>\n",
    "            <span style=\"color:#00bfff;\">This is immediately applicable to Sales Automation; but more generally this could be applied to  end-to-end automation of any business process through conversations and tools. Think of ways you could apply an Agent solution\n",
    "            like this in your day job.\n",
    "            </span>\n",
    "        </td>\n",
    "    </tr>\n",
    "</table>"
   ]
  },
  {
   "cell_type": "markdown",
   "metadata": {},
   "source": [
    "## Extra note:\n",
    "\n",
    "Google has announced their Agent Development Kit (ADK) which is in early preview. It's still under development, so it's too early for us to cover it here. But it's interesting to note that it looks quite similar to OpenAI Agents SDK. To give you a preview, here's a peak at sample code from ADK:\n",
    "\n",
    "```\n",
    "root_agent = Agent(\n",
    "    name=\"weather_time_agent\",\n",
    "    model=\"gemini-2.0-flash\",\n",
    "    description=\"Agent to answer questions about the time and weather in a city.\",\n",
    "    instruction=\"You are a helpful agent who can answer user questions about the time and weather in a city.\",\n",
    "    tools=[get_weather, get_current_time]\n",
    ")\n",
    "```\n",
    "\n",
    "Well, that looks familiar!"
   ]
  }
 ],
 "metadata": {
  "kernelspec": {
   "display_name": ".venv",
   "language": "python",
   "name": "python3"
  },
  "language_info": {
   "codemirror_mode": {
    "name": "ipython",
    "version": 3
   },
   "file_extension": ".py",
   "mimetype": "text/x-python",
   "name": "python",
   "nbconvert_exporter": "python",
   "pygments_lexer": "ipython3",
   "version": "3.12.10"
  }
 },
 "nbformat": 4,
 "nbformat_minor": 2
}
