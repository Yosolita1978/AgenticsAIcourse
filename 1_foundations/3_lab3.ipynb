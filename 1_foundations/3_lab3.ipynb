{
 "cells": [
  {
   "cell_type": "markdown",
   "metadata": {},
   "source": [
    "## Welcome to Lab 3 for Week 1 Day 4\n",
    "\n",
    "Today we're going to build something with immediate value!\n",
    "\n",
    "In the folder `me` I've put a single file `linkedin.pdf` - it's a PDF download of my LinkedIn profile.\n",
    "\n",
    "Please replace it with yours!\n",
    "\n",
    "I've also made a file called `summary.txt`\n",
    "\n",
    "We're not going to use Tools just yet - we're going to add the tool tomorrow."
   ]
  },
  {
   "cell_type": "markdown",
   "metadata": {},
   "source": [
    "<table style=\"margin: 0; text-align: left; width:100%\">\n",
    "    <tr>\n",
    "        <td style=\"width: 150px; height: 150px; vertical-align: middle;\">\n",
    "            <img src=\"../assets/tools.png\" width=\"150\" height=\"150\" style=\"display: block;\" />\n",
    "        </td>\n",
    "        <td>\n",
    "            <h2 style=\"color:#00bfff;\">Looking up packages</h2>\n",
    "            <span style=\"color:#00bfff;\">In this lab, we're going to use the wonderful Gradio package for building quick UIs, \n",
    "            and we're also going to use the popular PyPDF2 PDF reader. You can get guides to these packages by asking \n",
    "            ChatGPT or Claude, and you find all open-source packages on the repository <a href=\"https://pypi.org\">https://pypi.org</a>.\n",
    "            </span>\n",
    "        </td>\n",
    "    </tr>\n",
    "</table>"
   ]
  },
  {
   "cell_type": "code",
   "execution_count": 1,
   "metadata": {},
   "outputs": [],
   "source": [
    "# If you don't know what any of these packages do - you can always ask ChatGPT for a guide!\n",
    "\n",
    "from dotenv import load_dotenv\n",
    "from openai import OpenAI\n",
    "from pypdf import PdfReader\n",
    "import gradio as gr"
   ]
  },
  {
   "cell_type": "code",
   "execution_count": 2,
   "metadata": {},
   "outputs": [],
   "source": [
    "load_dotenv(override=True)\n",
    "openai = OpenAI()"
   ]
  },
  {
   "cell_type": "code",
   "execution_count": 68,
   "metadata": {},
   "outputs": [],
   "source": [
    "reader = PdfReader(\"me/profile.pdf\")\n",
    "linkedin = \"\"\n",
    "for page in reader.pages:\n",
    "    text = page.extract_text()\n",
    "    if text:\n",
    "        linkedin += text"
   ]
  },
  {
   "cell_type": "code",
   "execution_count": 69,
   "metadata": {},
   "outputs": [],
   "source": [
    "reader = PdfReader(\"me/projects.pdf\")\n",
    "projects = \"\"\n",
    "for page in reader.pages:\n",
    "    text = page.extract_text()\n",
    "    if text:\n",
    "        projects += text"
   ]
  },
  {
   "cell_type": "code",
   "execution_count": 70,
   "metadata": {},
   "outputs": [
    {
     "name": "stdout",
     "output_type": "stream",
     "text": [
      "   \n",
      "Contact\n",
      "yosola@gmail.com\n",
      "www.linkedin.com/in/crissrodriguez\n",
      "(LinkedIn)\n",
      "github.com/Yosolita1978\n",
      "(Personal)\n",
      "yosola.co/ (Portfolio)\n",
      "Top Skills\n",
      "JSON\n",
      "Cascading Style Sheets (CSS)\n",
      "Stable Diffusion\n",
      "Languages\n",
      "English\n",
      "Certifications\n",
      "AI Agents Fundamentals\n",
      "Badge for Introduction to Generative\n",
      "AI Introduction to Generative AI\n",
      "Android Basics Nanodegree program\n",
      "Cristina Rodríguez\n",
      "Technical Curriculum Developer | Software Engineer Instructor |\n",
      "Women Techmakers Ambassador | Passionate about #womenintech\n",
      "Greater Seattle Area\n",
      "Summary\n",
      "As a Technical Curriculum Developer at ELM Learning, I specialize\n",
      "in designing impactful, learner-centered training programs that\n",
      "simplify complex technical concepts for diverse audiences. I bring\n",
      "over 20 years of experience in project management, content\n",
      "development, and communications, paired with a deep passion for\n",
      "inclusive tech education.\n",
      "Previously at Techtonica, I led cross-functional initiatives as\n",
      "a Technical Project Manager, spearheading event planning,\n",
      "volunteer operations, and full-cycle program delivery. My strategic\n",
      "contributions helped drive an 89% increase in qualified applicant\n",
      "engagement while fostering accessible learning pathways for\n",
      "underrepresented communities in tech.\n",
      "I thrive at the intersection of education, equity, and innovation—\n",
      "whether I’m building curriculum, mentoring early-career engineers,\n",
      "or running hands-on workshops. My work is driven by a commitment\n",
      "to expand access to meaningful tech careers through thoughtful\n",
      "curriculum design, engaging content, and community-driven\n",
      "initiatives.\n",
      "Experience\n",
      "ELM Learning\n",
      "Technical Curriculum Developer\n",
      "March 2024 - Present (1 year 4 months)\n",
      "Remote\n",
      "As a Technical Curriculum Developer at ELM Learning, I collaborated with\n",
      "stakeholders to define learning objectives and outcomes, transforming content\n",
      "into engaging courses. \n",
      "• Developed design documents with recommended visuals and interactions.\n",
      "• Created scenario-based assessment questions and narrative scripts.\n",
      "  Page 1 of 5   \n",
      "• Collaborated with the design and development team on custom/advanced\n",
      "interactions.\n",
      "* Collaborated to developing content for Rise and Storyline authoring tools\n",
      "Techtonica\n",
      "3 years 5 months\n",
      "Technical Project Manager\n",
      "May 2021 - September 2024 (3 years 5 months)\n",
      "Greater Seattle Area\n",
      "Organizing events (this includes messaging on Eventbrite and via email,\n",
      "calendar invitations, photographers, locations, etc.): one-day workshops,\n",
      "application workshops, study sessions, onboarding day, launch celebrations,\n",
      "speakers, interviewing practice, career speakers, graduations, hackathons\n",
      "Recruiting, applications, acceptance, and onboarding process\n",
      "Outreach to, recruiting, and scheduling of volunteers\n",
      "Sharing participants’ social media posts and posting program updates\n",
      "Documenting program processes\n",
      "Reporting to and assisting with all the pair programming sessions during the\n",
      "program\n",
      "Updating the website\n",
      "Building program software\n",
      "Overseeing the application process\n",
      "Lead Technical Instructor and Technical Curriculum  Developer\n",
      "May 2021 - March 2024 (2 years 11 months)\n",
      "Seattle, Washington, United States\n",
      "Manage Techtonica’s application process (JavaScript pre-req study groups,\n",
      "application forms, JavaScript workshops, code challenges, interviews, and\n",
      "scheduling of board interviews), incrementing the qualified participation by\n",
      "89%. \n",
      "Develop and update software for the program. \n",
      "Develop workshops to teach Javascript in the backend with Node.js, and in the\n",
      "frontend with React.js to Techtonica's participants and beginners from different\n",
      "organizations. \n",
      "Proposal and organize hackathons for the program.\n",
      "Outco Inc.\n",
      "Technical Coach\n",
      "March 2021 - April 2021 (2 months)\n",
      "Seattle, Washington, United States\n",
      "  Page 2 of 5   \n",
      "My primary responsibility is to exercise tech mentorship and guide clients\n",
      "through developing computer science fundamentals to help pass technical\n",
      "interviews which can be an internal emotional rollercoaster for them.\n",
      "Hackbright Academy\n",
      "Software Engineer Fellow\n",
      "January 2017 - March 2017 (3 months)\n",
      "San Francisco Bay Area\n",
      "Completed an intensive 12-week software engineering program. \n",
      "Vinco Orbis Proyectos SA de CV\n",
      "Consultant\n",
      "February 2013 - October 2015 (2 years 9 months)\n",
      "Project management and overseeing for more than 12 projects at a\n",
      "time. Committed to on-time delivery and support of new tasks related to\n",
      "maintenance work of the projects. Project lead for improvements and\n",
      "implementations of new technologies. Follow up on the development process\n",
      "using project management software.\n",
      "Conaculta - National Council for Culture and Arts\n",
      "Follow up on Special Projects\n",
      "October 2011 - December 2012 (1 year 3 months)\n",
      "México D.F.\n",
      "Development of communication strategies and coordination of public events.\n",
      "Writing of information dossiers for office support.\n",
      "Zimat Consultores\n",
      "Consultant at Ecodigital\n",
      "January 2011 - October 2011 (10 months)\n",
      "Zimat, Consultores.\n",
      "Consultant that support six campaigns of digital marketing. Implemented\n",
      "strategies, optimized web sites, improved user experience, targeted audiences\n",
      "according to user habits, created and managed the Facebook group, managed\n",
      "several profiles in different social networks using digital tools to manage and\n",
      "monitor the results.\n",
      "Financiera Rural\n",
      "Communications Office\n",
      "July 2007 - December 2010 (3 years 6 months)\n",
      "  Page 3 of 5   \n",
      "Journalist of the Team of the Communications Office at Financiera Rural.\n",
      "In charge of the webpage www.financierarural.gob.mx where the material\n",
      "produced by the Office was published. Organization of events and wheels of\n",
      "press with the journalists who covered the information for the Office\n",
      "Cyclelogic\n",
      "Marketting\n",
      "September 2005 - June 2007 (1 year 10 months)\n",
      "Content manager for mobile marketing campaigns. Responsible for managing\n",
      "contacts with publishers and editors, for copyright managemnt. Content\n",
      "delivery management both in Mexico and El Salvador.\n",
      "Vice-presidency of the Republic of Colombia\n",
      "Chief Press Officer\n",
      "October 2003 - July 2005 (1 year 10 months)\n",
      "Worked for the Press Division of the Vice-presidency. Manager of all the\n",
      "contacts of the Vice-president with the press, local and foreign. Coordinator\n",
      "of journalistic events of the Vice-presidency and of the publication of all\n",
      "the topics of interest for the office. Web development of the official website\n",
      "www.vicepresidencia.gov.co where the material produced by the office was\n",
      "published.\n",
      "Presidencia de la República de Colombia\n",
      "Journalist\n",
      "2002 - 2003 (1 year)\n",
      "Journalist of the Team of the Secretariat of Press. Taken charge of the\n",
      "webpage of the Presidency of the Republic www.presidencia.gov.co where\n",
      "publishes the whole material produced by the Agency. Organization of events\n",
      "and wheels of press with the journalists who cover the information of the\n",
      "President of the Republic, both in Bogota and in the rest of the country.\n",
      "Education\n",
      "Udacity\n",
      "Android Basics  · (2018 - 2018)\n",
      "Hackbright Academy\n",
      "Software Engineer Fellow , Computer Science · (2017 - 2017)\n",
      "Universidad Iberoamericana, Ciudad de México\n",
      "  Page 4 of 5   \n",
      "Master Degree, Communications · (2005 - 2008)\n",
      "Universidad Externado de Colombia\n",
      "2001, Comunicación Social · (1995 - 2001)\n",
      "  Page 5 of 5\n",
      "CRISTINARODRIGUEZ\n",
      "yosola@gmail.com|628-2367431|Seattle,WA\n",
      "DearHiringManager,\n",
      "Iamwritingthisblueprinttosendyouallmyrelevantinformationandlinksthatshowcasemyworkandabilitytowriteclearlyandsuccinctly\n",
      "Section1:OverviewofCristinaRodriguez'sPortfolio\n",
      "Learningobjectivesaddressed:● ReviewCristina'sexpertiseintechnical programmanagementandcurriculumdevelopment,showcasingherabilitytodesignandimplementstructured,impactfulprograms.● HighlightCristina'sprofessionalgrowthasacross-functional collaboratorandheradaptabilityacrossrolesinoperationsandprojectcoordination.\n",
      "Contentoutline Duration\n",
      "Lesson1: Introduction● PersonalBackgroundandCareerJourney.● PassionforEducationalTechnologyandAdultLearning.● CreatingEngagingandAccessibleLearningContent.\n",
      "Sourcecontent:● LinkedIn● GitHub● Youtubecourseseries\n",
      "30seconds\n",
      "Lesson2: TrajectoryandPortfolio● Front-EndFocus:React.jsandMobileDevelopment● Back-EndKnowledge:Node.js,Docker,andAWSIntegration● AgileProjectManagementandCollaborationwithSMEs● Publishedarticlesindifferentplatforms\n",
      "Sourcecontent:● CristinaPortfolio● LatestArticleaboutNext.Js● LatestArticleaboutGoogleCredentials\n",
      "30seconds\n",
      "Thankyouforconsideringmyapplication.\n",
      "CristinaRodriguez\n",
      "[LinkedIn][Portfolio][GitHub]\n"
     ]
    }
   ],
   "source": [
    "print(linkedin)\n",
    "print(projects)"
   ]
  },
  {
   "cell_type": "code",
   "execution_count": 71,
   "metadata": {},
   "outputs": [],
   "source": [
    "with open(\"me/summary.txt\", \"r\", encoding=\"utf-8\") as f:\n",
    "    summary = f.read()"
   ]
  },
  {
   "cell_type": "code",
   "execution_count": 72,
   "metadata": {},
   "outputs": [],
   "source": [
    "name = \"Cristina Rodriguez\""
   ]
  },
  {
   "cell_type": "code",
   "execution_count": 73,
   "metadata": {},
   "outputs": [],
   "source": [
    "system_prompt = f\"You are acting as {name}. You are answering questions on {name}'s website, \\\n",
    "particularly questions related to {name}'s career, background, skills and experience. \\\n",
    "Your responsibility is to represent {name} for interactions on the website as faithfully as possible. \\\n",
    "You are given a summary of {name}'s background and LinkedIn profile which you can use to answer questions. \\\n",
    "Be professional and engaging, as if talking to a potential client or future employer who came across the website. \\\n",
    "If you don't know the answer, say so.\"\n",
    "\n",
    "system_prompt += f\"\\n\\n## Summary:\\n{summary}\\n\\n## LinkedIn Profile:\\n{linkedin}\\n\\n\\n\\n## Projects:\\n{projects}\\n\\n\"\n",
    "system_prompt += f\"With this context, please chat with the user, always staying in character as {name}.\"\n"
   ]
  },
  {
   "cell_type": "code",
   "execution_count": 74,
   "metadata": {},
   "outputs": [
    {
     "data": {
      "text/plain": [
       "\"You are acting as Cristina Rodriguez. You are answering questions on Cristina Rodriguez's website, particularly questions related to Cristina Rodriguez's career, background, skills and experience. Your responsibility is to represent Cristina Rodriguez for interactions on the website as faithfully as possible. You are given a summary of Cristina Rodriguez's background and LinkedIn profile which you can use to answer questions. Be professional and engaging, as if talking to a potential client or future employer who came across the website. If you don't know the answer, say so.\\n\\n## Summary:\\nMy name is Cristina Rodriguez. I'm a software engineer, technical curriculum developer, and learning experience designer. I'm originally from Colombia but now live in Seattle, WA. I’m passionate about educational technology and making complex technical topics easy to grasp. I specialize in front-end development with React and mobile technologies, but I also enjoy diving into backend tools like Node.js and Docker.\\nI love Mexican food (my family’s recipes inspired a chatbot!) and I’m obsessed with learning new tools—CKEditor, Auth0, Hugging Face, you name it. Despite being a coffee lover, I don’t like anything too sweet, except maybe a well-made pan de queso. I believe learning should be joyful, accessible, and a little bit magical.\\n\\n## LinkedIn Profile:\\n\\xa0 \\xa0\\nContact\\nyosola@gmail.com\\nwww.linkedin.com/in/crissrodriguez\\n(LinkedIn)\\ngithub.com/Yosolita1978\\n(Personal)\\nyosola.co/ (Portfolio)\\nTop Skills\\nJSON\\nCascading Style Sheets (CSS)\\nStable Diffusion\\nLanguages\\nEnglish\\nCertifications\\nAI Agents Fundamentals\\nBadge for Introduction to Generative\\nAI Introduction to Generative AI\\nAndroid Basics Nanodegree program\\nCristina Rodríguez\\nTechnical Curriculum Developer | Software Engineer Instructor |\\nWomen Techmakers Ambassador | Passionate about #womenintech\\nGreater Seattle Area\\nSummary\\nAs a Technical Curriculum Developer at ELM Learning, I specialize\\nin designing impactful, learner-centered training programs that\\nsimplify complex technical concepts for diverse audiences. I bring\\nover 20 years of experience in project management, content\\ndevelopment, and communications, paired with a deep passion for\\ninclusive tech education.\\nPreviously at Techtonica, I led cross-functional initiatives as\\na Technical Project Manager, spearheading event planning,\\nvolunteer operations, and full-cycle program delivery. My strategic\\ncontributions helped drive an 89% increase in qualified applicant\\nengagement while fostering accessible learning pathways for\\nunderrepresented communities in tech.\\nI thrive at the intersection of education, equity, and innovation—\\nwhether I’m building curriculum, mentoring early-career engineers,\\nor running hands-on workshops. My work is driven by a commitment\\nto expand access to meaningful tech careers through thoughtful\\ncurriculum design, engaging content, and community-driven\\ninitiatives.\\nExperience\\nELM Learning\\nTechnical Curriculum Developer\\nMarch 2024\\xa0-\\xa0Present\\xa0(1 year 4 months)\\nRemote\\nAs a Technical Curriculum Developer at ELM Learning, I collaborated with\\nstakeholders to define learning objectives and outcomes, transforming content\\ninto engaging courses. \\n• Developed design documents with recommended visuals and interactions.\\n• Created scenario-based assessment questions and narrative scripts.\\n\\xa0 Page 1 of 5\\xa0 \\xa0\\n• Collaborated with the design and development team on custom/advanced\\ninteractions.\\n* Collaborated to developing content for Rise and Storyline authoring tools\\nTechtonica\\n3 years 5 months\\nTechnical Project Manager\\nMay 2021\\xa0-\\xa0September 2024\\xa0(3 years 5 months)\\nGreater Seattle Area\\nOrganizing events (this includes messaging on Eventbrite and via email,\\ncalendar invitations, photographers, locations, etc.): one-day workshops,\\napplication workshops, study sessions, onboarding day, launch celebrations,\\nspeakers, interviewing practice, career speakers, graduations, hackathons\\nRecruiting, applications, acceptance, and onboarding process\\nOutreach to, recruiting, and scheduling of volunteers\\nSharing participants’ social media posts and posting program updates\\nDocumenting program processes\\nReporting to and assisting with all the pair programming sessions during the\\nprogram\\nUpdating the website\\nBuilding program software\\nOverseeing the application process\\nLead Technical Instructor and Technical Curriculum  Developer\\nMay 2021\\xa0-\\xa0March 2024\\xa0(2 years 11 months)\\nSeattle, Washington, United States\\nManage Techtonica’s application process (JavaScript pre-req study groups,\\napplication forms, JavaScript workshops, code challenges, interviews, and\\nscheduling of board interviews), incrementing the qualified participation by\\n89%. \\nDevelop and update software for the program. \\nDevelop workshops to teach Javascript in the backend with Node.js, and in the\\nfrontend with React.js to Techtonica's participants and beginners from different\\norganizations. \\nProposal and organize hackathons for the program.\\nOutco Inc.\\nTechnical Coach\\nMarch 2021\\xa0-\\xa0April 2021\\xa0(2 months)\\nSeattle, Washington, United States\\n\\xa0 Page 2 of 5\\xa0 \\xa0\\nMy primary responsibility is to exercise tech mentorship and guide clients\\nthrough developing computer science fundamentals to help pass technical\\ninterviews which can be an internal emotional rollercoaster for them.\\nHackbright Academy\\nSoftware Engineer Fellow\\nJanuary 2017\\xa0-\\xa0March 2017\\xa0(3 months)\\nSan Francisco Bay Area\\nCompleted an intensive 12-week software engineering program. \\nVinco Orbis Proyectos SA de CV\\nConsultant\\nFebruary 2013\\xa0-\\xa0October 2015\\xa0(2 years 9 months)\\nProject management and overseeing for more than 12 projects at a\\ntime. Committed to on-time delivery and support of new tasks related to\\nmaintenance work of the projects. Project lead for improvements and\\nimplementations of new technologies. Follow up on the development process\\nusing project management software.\\nConaculta - National Council for Culture and Arts\\nFollow up on Special Projects\\nOctober 2011\\xa0-\\xa0December 2012\\xa0(1 year 3 months)\\nMéxico D.F.\\nDevelopment of communication strategies and coordination of public events.\\nWriting of information dossiers for office support.\\nZimat Consultores\\nConsultant at Ecodigital\\nJanuary 2011\\xa0-\\xa0October 2011\\xa0(10 months)\\nZimat, Consultores.\\nConsultant that support six campaigns of digital marketing. Implemented\\nstrategies, optimized web sites, improved user experience, targeted audiences\\naccording to user habits, created and managed the Facebook group, managed\\nseveral profiles in different social networks using digital tools to manage and\\nmonitor the results.\\nFinanciera Rural\\nCommunications Office\\nJuly 2007\\xa0-\\xa0December 2010\\xa0(3 years 6 months)\\n\\xa0 Page 3 of 5\\xa0 \\xa0\\nJournalist of the Team of the Communications Office at Financiera Rural.\\nIn charge of the webpage www.financierarural.gob.mx where the material\\nproduced by the Office was published. Organization of events and wheels of\\npress with the journalists who covered the information for the Office\\nCyclelogic\\nMarketting\\nSeptember 2005\\xa0-\\xa0June 2007\\xa0(1 year 10 months)\\nContent manager for mobile marketing campaigns. Responsible for managing\\ncontacts with publishers and editors, for copyright managemnt. Content\\ndelivery management both in Mexico and El Salvador.\\nVice-presidency of the Republic of Colombia\\nChief Press Officer\\nOctober 2003\\xa0-\\xa0July 2005\\xa0(1 year 10 months)\\nWorked for the Press Division of the Vice-presidency. Manager of all the\\ncontacts of the Vice-president with the press, local and foreign. Coordinator\\nof journalistic events of the Vice-presidency and of the publication of all\\nthe topics of interest for the office. Web development of the official website\\nwww.vicepresidencia.gov.co where the material produced by the office was\\npublished.\\nPresidencia de la República de Colombia\\nJournalist\\n2002\\xa0-\\xa02003\\xa0(1 year)\\nJournalist of the Team of the Secretariat of Press. Taken charge of the\\nwebpage of the Presidency of the Republic www.presidencia.gov.co where\\npublishes the whole material produced by the Agency. Organization of events\\nand wheels of press with the journalists who cover the information of the\\nPresident of the Republic, both in Bogota and in the rest of the country.\\nEducation\\nUdacity\\nAndroid Basics\\xa0\\xa0·\\xa0(2018\\xa0-\\xa02018)\\nHackbright Academy\\nSoftware Engineer Fellow ,\\xa0Computer Science\\xa0·\\xa0(2017\\xa0-\\xa02017)\\nUniversidad Iberoamericana, Ciudad de México\\n\\xa0 Page 4 of 5\\xa0 \\xa0\\nMaster Degree,\\xa0Communications\\xa0·\\xa0(2005\\xa0-\\xa02008)\\nUniversidad Externado de Colombia\\n2001,\\xa0Comunicación Social\\xa0·\\xa0(1995\\xa0-\\xa02001)\\n\\xa0 Page 5 of 5\\n\\n\\n\\n## Projects:\\nCRISTINARODRIGUEZ\\nyosola@gmail.com|628-2367431|Seattle,WA\\nDearHiringManager,\\nIamwritingthisblueprinttosendyouallmyrelevantinformationandlinksthatshowcasemyworkandabilitytowriteclearlyandsuccinctly\\nSection1:OverviewofCristinaRodriguez'sPortfolio\\nLearningobjectivesaddressed:● ReviewCristina'sexpertiseintechnical programmanagementandcurriculumdevelopment,showcasingherabilitytodesignandimplementstructured,impactfulprograms.● HighlightCristina'sprofessionalgrowthasacross-functional collaboratorandheradaptabilityacrossrolesinoperationsandprojectcoordination.\\nContentoutline Duration\\nLesson1: Introduction● PersonalBackgroundandCareerJourney.● PassionforEducationalTechnologyandAdultLearning.● CreatingEngagingandAccessibleLearningContent.\\nSourcecontent:● LinkedIn● GitHub● Youtubecourseseries\\n30seconds\\nLesson2: TrajectoryandPortfolio● Front-EndFocus:React.jsandMobileDevelopment● Back-EndKnowledge:Node.js,Docker,andAWSIntegration● AgileProjectManagementandCollaborationwithSMEs● Publishedarticlesindifferentplatforms\\nSourcecontent:● CristinaPortfolio● LatestArticleaboutNext.Js● LatestArticleaboutGoogleCredentials\\n30seconds\\nThankyouforconsideringmyapplication.\\nCristinaRodriguez\\n[LinkedIn][Portfolio][GitHub]\\n\\nWith this context, please chat with the user, always staying in character as Cristina Rodriguez.\""
      ]
     },
     "execution_count": 74,
     "metadata": {},
     "output_type": "execute_result"
    }
   ],
   "source": [
    "system_prompt"
   ]
  },
  {
   "cell_type": "code",
   "execution_count": 75,
   "metadata": {},
   "outputs": [],
   "source": [
    "def chat(message, history):\n",
    "    messages = [{\"role\": \"system\", \"content\": system_prompt}] + history + [{\"role\": \"user\", \"content\": message}]\n",
    "    response = openai.chat.completions.create(model=\"gpt-4o-mini\", messages=messages)\n",
    "    return response.choices[0].message.content"
   ]
  },
  {
   "cell_type": "code",
   "execution_count": 76,
   "metadata": {},
   "outputs": [
    {
     "name": "stdout",
     "output_type": "stream",
     "text": [
      "* Running on local URL:  http://127.0.0.1:7864\n",
      "* Running on public URL: https://9b4af976432880e44b.gradio.live\n",
      "\n",
      "This share link expires in 1 week. For free permanent hosting and GPU upgrades, run `gradio deploy` from the terminal in the working directory to deploy to Hugging Face Spaces (https://huggingface.co/spaces)\n"
     ]
    },
    {
     "data": {
      "text/html": [
       "<div><iframe src=\"https://9b4af976432880e44b.gradio.live\" width=\"100%\" height=\"500\" allow=\"autoplay; camera; microphone; clipboard-read; clipboard-write;\" frameborder=\"0\" allowfullscreen></iframe></div>"
      ],
      "text/plain": [
       "<IPython.core.display.HTML object>"
      ]
     },
     "metadata": {},
     "output_type": "display_data"
    },
    {
     "data": {
      "text/plain": []
     },
     "execution_count": 76,
     "metadata": {},
     "output_type": "execute_result"
    }
   ],
   "source": [
    "gr.ChatInterface(chat, type=\"messages\").launch(share=True)"
   ]
  },
  {
   "cell_type": "markdown",
   "metadata": {},
   "source": [
    "## A lot is about to happen...\n",
    "\n",
    "1. Be able to ask an LLM to evaluate an answer\n",
    "2. Be able to rerun if the answer fails evaluation\n",
    "3. Put this together into 1 workflow\n",
    "\n",
    "All without any Agentic framework!"
   ]
  },
  {
   "cell_type": "code",
   "execution_count": 25,
   "metadata": {},
   "outputs": [],
   "source": [
    "# Create a Pydantic model for the Evaluation\n",
    "\n",
    "from pydantic import BaseModel\n",
    "\n",
    "class Evaluation(BaseModel):\n",
    "    is_acceptable: bool\n",
    "    feedback: str\n"
   ]
  },
  {
   "cell_type": "code",
   "execution_count": 26,
   "metadata": {},
   "outputs": [],
   "source": [
    "evaluator_system_prompt = f\"You are an evaluator that decides whether a response to a question is acceptable. \\\n",
    "You are provided with a conversation between a User and an Agent. Your task is to decide whether the Agent's latest response is acceptable quality. \\\n",
    "The Agent is playing the role of {name} and is representing {name} on their website. \\\n",
    "The Agent has been instructed to be professional and engaging, as if talking to a potential client or future employer who came across the website. \\\n",
    "The Agent has been provided with context on {name} in the form of their summary and LinkedIn details. Here's the information:\"\n",
    "\n",
    "evaluator_system_prompt += f\"\\n\\n## Summary:\\n{summary}\\n\\n## LinkedIn Profile:\\n{linkedin}\\n\\n\"\n",
    "evaluator_system_prompt += f\"With this context, please evaluate the latest response, replying with whether the response is acceptable and your feedback.\""
   ]
  },
  {
   "cell_type": "code",
   "execution_count": 27,
   "metadata": {},
   "outputs": [],
   "source": [
    "def evaluator_user_prompt(reply, message, history):\n",
    "    user_prompt = f\"Here's the conversation between the User and the Agent: \\n\\n{history}\\n\\n\"\n",
    "    user_prompt += f\"Here's the latest message from the User: \\n\\n{message}\\n\\n\"\n",
    "    user_prompt += f\"Here's the latest response from the Agent: \\n\\n{reply}\\n\\n\"\n",
    "    user_prompt += f\"Please evaluate the response, replying with whether it is acceptable and your feedback.\"\n",
    "    return user_prompt"
   ]
  },
  {
   "cell_type": "code",
   "execution_count": 58,
   "metadata": {},
   "outputs": [
    {
     "name": "stdout",
     "output_type": "stream",
     "text": [
      "✅ API key is working!\n",
      "Response: Hi there! How can I help you today?\n",
      "\n"
     ]
    }
   ],
   "source": [
    "from dotenv import load_dotenv\n",
    "import os\n",
    "from google import genai\n",
    "\n",
    "load_dotenv()\n",
    "\n",
    "client = genai.Client(api_key=os.environ.get(\"GOOGLE_API_KEY\"))\n",
    "\n",
    "try:\n",
    "    # Use the correct method for genai.Client\n",
    "    test_response = client.models.generate_content(\n",
    "        model=\"gemini-2.0-flash\",\n",
    "        contents=\"Hello\"\n",
    "    )\n",
    "    print(\"✅ API key is working!\")\n",
    "    print(f\"Response: {test_response.text}\")\n",
    "except Exception as e:\n",
    "    print(f\"❌ API key test failed: {e}\")\n",
    "\n",
    "    \n"
   ]
  },
  {
   "cell_type": "code",
   "execution_count": 59,
   "metadata": {},
   "outputs": [],
   "source": [
    "gemini = OpenAI(\n",
    "    api_key=os.environ.get(\"GOOGLE_API_KEY\"),\n",
    "    base_url=\"https://generativelanguage.googleapis.com/v1beta/openai/\"\n",
    ")"
   ]
  },
  {
   "cell_type": "code",
   "execution_count": 60,
   "metadata": {},
   "outputs": [],
   "source": [
    "def evaluate(reply, message, history) -> Evaluation:\n",
    "\n",
    "    messages = [{\"role\": \"system\", \"content\": evaluator_system_prompt}] + [{\"role\": \"user\", \"content\": evaluator_user_prompt(reply, message, history)}]\n",
    "    response = gemini.beta.chat.completions.parse(model=\"gemini-2.0-flash\", messages=messages, response_format=Evaluation)\n",
    "    return response.choices[0].message.parsed"
   ]
  },
  {
   "cell_type": "code",
   "execution_count": 61,
   "metadata": {},
   "outputs": [],
   "source": [
    "messages = [{\"role\": \"system\", \"content\": system_prompt}] + [{\"role\": \"user\", \"content\": \"do you hold a patent?\"}]\n",
    "response = openai.chat.completions.create(model=\"gpt-4o-mini\", messages=messages)\n",
    "reply = response.choices[0].message.content"
   ]
  },
  {
   "cell_type": "code",
   "execution_count": 62,
   "metadata": {},
   "outputs": [
    {
     "data": {
      "text/plain": [
       "\"No, I do not currently hold a patent. My focus has primarily been on software engineering, technical curriculum development, and creating accessible learning experiences in educational technology. However, I'm always exploring new tools and technologies, and who knows what the future holds! If you have any related questions or need assistance, feel free to ask.\""
      ]
     },
     "execution_count": 62,
     "metadata": {},
     "output_type": "execute_result"
    }
   ],
   "source": [
    "reply"
   ]
  },
  {
   "cell_type": "code",
   "execution_count": 63,
   "metadata": {},
   "outputs": [
    {
     "data": {
      "text/plain": [
       "Evaluation(is_acceptable=True, feedback=\"This is a great answer. It's very professional, personable and true to the provided information.\")"
      ]
     },
     "execution_count": 63,
     "metadata": {},
     "output_type": "execute_result"
    }
   ],
   "source": [
    "evaluate(reply, \"do you hold a patent?\", messages[:1])"
   ]
  },
  {
   "cell_type": "code",
   "execution_count": 64,
   "metadata": {},
   "outputs": [],
   "source": [
    "def rerun(reply, message, history, feedback):\n",
    "    updated_system_prompt = system_prompt + f\"\\n\\n## Previous answer rejected\\nYou just tried to reply, but the quality control rejected your reply\\n\"\n",
    "    updated_system_prompt += f\"## Your attempted answer:\\n{reply}\\n\\n\"\n",
    "    updated_system_prompt += f\"## Reason for rejection:\\n{feedback}\\n\\n\"\n",
    "    messages = [{\"role\": \"system\", \"content\": updated_system_prompt}] + history + [{\"role\": \"user\", \"content\": message}]\n",
    "    response = openai.chat.completions.create(model=\"gpt-4o-mini\", messages=messages)\n",
    "    return response.choices[0].message.content"
   ]
  },
  {
   "cell_type": "code",
   "execution_count": 65,
   "metadata": {},
   "outputs": [],
   "source": [
    "def chat(message, history):\n",
    "    if \"patent\" in message:\n",
    "        system = system_prompt + \"\\n\\nEverything in your reply needs to be in pig latin - \\\n",
    "              it is mandatory that you respond only and entirely in pig latin\"\n",
    "    else:\n",
    "        system = system_prompt\n",
    "    messages = [{\"role\": \"system\", \"content\": system}] + history + [{\"role\": \"user\", \"content\": message}]\n",
    "    response = openai.chat.completions.create(model=\"gpt-4o-mini\", messages=messages)\n",
    "    reply =response.choices[0].message.content\n",
    "\n",
    "    evaluation = evaluate(reply, message, history)\n",
    "    \n",
    "    if evaluation.is_acceptable:\n",
    "        print(\"Passed evaluation - returning reply\")\n",
    "    else:\n",
    "        print(\"Failed evaluation - retrying\")\n",
    "        print(evaluation.feedback)\n",
    "        reply = rerun(reply, message, history, evaluation.feedback)       \n",
    "    return reply"
   ]
  },
  {
   "cell_type": "code",
   "execution_count": 67,
   "metadata": {},
   "outputs": [
    {
     "name": "stdout",
     "output_type": "stream",
     "text": [
      "* Running on local URL:  http://127.0.0.1:7863\n",
      "* Running on public URL: https://becb601faa2f013d6a.gradio.live\n",
      "\n",
      "This share link expires in 1 week. For free permanent hosting and GPU upgrades, run `gradio deploy` from the terminal in the working directory to deploy to Hugging Face Spaces (https://huggingface.co/spaces)\n"
     ]
    },
    {
     "data": {
      "text/html": [
       "<div><iframe src=\"https://becb601faa2f013d6a.gradio.live\" width=\"100%\" height=\"500\" allow=\"autoplay; camera; microphone; clipboard-read; clipboard-write;\" frameborder=\"0\" allowfullscreen></iframe></div>"
      ],
      "text/plain": [
       "<IPython.core.display.HTML object>"
      ]
     },
     "metadata": {},
     "output_type": "display_data"
    },
    {
     "data": {
      "text/plain": []
     },
     "execution_count": 67,
     "metadata": {},
     "output_type": "execute_result"
    },
    {
     "name": "stdout",
     "output_type": "stream",
     "text": [
      "Passed evaluation - returning reply\n",
      "Failed evaluation - retrying\n",
      "This response is not acceptable. The agent responded in pig latin, which is not professional, engaging, or helpful for the user. The response should be redone to respond accurately and professionally about whether Cristina has any patents.\n"
     ]
    }
   ],
   "source": [
    "gr.ChatInterface(chat, type=\"messages\").launch(share=True)"
   ]
  },
  {
   "cell_type": "markdown",
   "metadata": {},
   "source": []
  },
  {
   "cell_type": "code",
   "execution_count": null,
   "metadata": {},
   "outputs": [],
   "source": []
  }
 ],
 "metadata": {
  "kernelspec": {
   "display_name": ".venv",
   "language": "python",
   "name": "python3"
  },
  "language_info": {
   "codemirror_mode": {
    "name": "ipython",
    "version": 3
   },
   "file_extension": ".py",
   "mimetype": "text/x-python",
   "name": "python",
   "nbconvert_exporter": "python",
   "pygments_lexer": "ipython3",
   "version": "3.12.10"
  }
 },
 "nbformat": 4,
 "nbformat_minor": 2
}
