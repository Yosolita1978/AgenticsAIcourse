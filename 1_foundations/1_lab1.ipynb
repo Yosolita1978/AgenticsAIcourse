{
 "cells": [
  {
   "cell_type": "markdown",
   "metadata": {},
   "source": [
    "# Welcome to the start of your adventure in Agentic AI"
   ]
  },
  {
   "cell_type": "markdown",
   "metadata": {},
   "source": [
    "<table style=\"margin: 0; text-align: left; width:100%\">\n",
    "    <tr>\n",
    "        <td style=\"width: 150px; height: 150px; vertical-align: middle;\">\n",
    "            <img src=\"../assets/stop.png\" width=\"150\" height=\"150\" style=\"display: block;\" />\n",
    "        </td>\n",
    "        <td>\n",
    "            <h2 style=\"color:#ff7800;\">Are you ready for action??</h2>\n",
    "            <span style=\"color:#ff7800;\">Have you completed all the setup steps in the <a href=\"../setup/\">setup</a> folder?<br/>\n",
    "            Have you checked out the guides in the <a href=\"../guides/01_intro.ipynb\">guides</a> folder?<br/>\n",
    "            Well in that case, you're ready!!\n",
    "            </span>\n",
    "        </td>\n",
    "    </tr>\n",
    "</table>"
   ]
  },
  {
   "cell_type": "markdown",
   "metadata": {},
   "source": [
    "<table style=\"margin: 0; text-align: left; width:100%\">\n",
    "    <tr>\n",
    "        <td style=\"width: 150px; height: 150px; vertical-align: middle;\">\n",
    "            <img src=\"../assets/tools.png\" width=\"150\" height=\"150\" style=\"display: block;\" />\n",
    "        </td>\n",
    "        <td>\n",
    "            <h2 style=\"color:#00bfff;\">This code is a live resource - keep an eye out for my updates</h2>\n",
    "            <span style=\"color:#00bfff;\">I push updates regularly. As people ask questions or have problems, I add more examples and improve explanations. As a result, the code below might not be identical to the videos, as I've added more steps and better comments. Consider this like an interactive book that accompanies the lectures.<br/><br/>\n",
    "            I try to send emails regularly with important updates related to the course. You can find this in the 'Announcements' section of Udemy in the left sidebar. You can also choose to receive my emails via your Notification Settings in Udemy. I'm respectful of your inbox and always try to add value with my emails!\n",
    "            </span>\n",
    "        </td>\n",
    "    </tr>\n",
    "</table>"
   ]
  },
  {
   "cell_type": "markdown",
   "metadata": {},
   "source": [
    "### And please do remember to contact me if I can help\n",
    "\n",
    "And I love to connect: https://www.linkedin.com/in/eddonner/\n",
    "\n",
    "\n",
    "### New to Notebooks like this one? Head over to the guides folder!\n",
    "\n",
    "Just to check you've already added the Python and Jupyter extensions to Cursor, if not already installed:\n",
    "- Open extensions (View >> extensions)\n",
    "- Search for python, and when the results show, click on the ms-python one, and Install it if not already installed\n",
    "- Search for jupyter, and when the results show, click on the Microsoft one, and Install it if not already installed  \n",
    "Then View >> Explorer to bring back the File Explorer.\n",
    "\n",
    "And then:\n",
    "1. Click where it says \"Select Kernel\" near the top right, and select the option called `.venv (Python 3.12.9)` or similar, which should be the first choice or the most prominent choice. You may need to choose \"Python Environments\" first.\n",
    "2. Click in each \"cell\" below, starting with the cell immediately below this text, and press Shift+Enter to run\n",
    "3. Enjoy!\n",
    "\n",
    "After you click \"Select Kernel\", if there is no option like `.venv (Python 3.12.9)` then please do the following:  \n",
    "1. On Mac: From the Cursor menu, choose Settings >> VS Code Settings (NOTE: be sure to select `VSCode Settings` not `Cursor Settings`);  \n",
    "On Windows PC: From the File menu, choose Preferences >> VS Code Settings(NOTE: be sure to select `VSCode Settings` not `Cursor Settings`)  \n",
    "2. In the Settings search bar, type \"venv\"  \n",
    "3. In the field \"Path to folder with a list of Virtual Environments\" put the path to the project root, like C:\\Users\\username\\projects\\agents (on a Windows PC) or /Users/username/projects/agents (on Mac or Linux).  \n",
    "And then try again.\n",
    "\n",
    "Having problems with missing Python versions in that list? Have you ever used Anaconda before? It might be interferring. Quit Cursor, bring up a new command line, and make sure that your Anaconda environment is deactivated:    \n",
    "`conda deactivate`  \n",
    "And if you still have any problems with conda and python versions, it's possible that you will need to run this too:  \n",
    "`conda config --set auto_activate_base false`  \n",
    "and then from within the Agents directory, you should be able to run `uv python list` and see the Python 3.12 version."
   ]
  },
  {
   "cell_type": "code",
   "execution_count": 1,
   "metadata": {},
   "outputs": [],
   "source": [
    "# First let's do an import\n",
    "from dotenv import load_dotenv\n"
   ]
  },
  {
   "cell_type": "code",
   "execution_count": 2,
   "metadata": {},
   "outputs": [
    {
     "data": {
      "text/plain": [
       "True"
      ]
     },
     "execution_count": 2,
     "metadata": {},
     "output_type": "execute_result"
    }
   ],
   "source": [
    "# Next it's time to load the API keys into environment variables\n",
    "\n",
    "load_dotenv(override=True)"
   ]
  },
  {
   "cell_type": "code",
   "execution_count": 3,
   "metadata": {},
   "outputs": [
    {
     "name": "stdout",
     "output_type": "stream",
     "text": [
      "OpenAI API Key exists and begins sk-proj-\n"
     ]
    }
   ],
   "source": [
    "# Check the keys\n",
    "\n",
    "import os\n",
    "openai_api_key = os.getenv('OPENAI_API_KEY')\n",
    "\n",
    "if openai_api_key:\n",
    "    print(f\"OpenAI API Key exists and begins {openai_api_key[:8]}\")\n",
    "else:\n",
    "    print(\"OpenAI API Key not set - please head to the troubleshooting guide in the setup folder\")\n",
    "    \n"
   ]
  },
  {
   "cell_type": "code",
   "execution_count": 4,
   "metadata": {},
   "outputs": [],
   "source": [
    "# And now - the all important import statement\n",
    "# If you get an import error - head over to troubleshooting guide\n",
    "\n",
    "from openai import OpenAI"
   ]
  },
  {
   "cell_type": "code",
   "execution_count": 5,
   "metadata": {},
   "outputs": [],
   "source": [
    "# And now we'll create an instance of the OpenAI class\n",
    "# If you're not sure what it means to create an instance of a class - head over to the guides folder!\n",
    "# If you get a NameError - head over to the guides folder to learn about NameErrors\n",
    "\n",
    "openai = OpenAI()"
   ]
  },
  {
   "cell_type": "code",
   "execution_count": 6,
   "metadata": {},
   "outputs": [],
   "source": [
    "# Create a list of messages in the familiar OpenAI format\n",
    "\n",
    "messages = [{\"role\": \"user\", \"content\": \"What is 2+2?\"}]"
   ]
  },
  {
   "cell_type": "code",
   "execution_count": 7,
   "metadata": {},
   "outputs": [
    {
     "name": "stdout",
     "output_type": "stream",
     "text": [
      "2 + 2 equals 4.\n"
     ]
    }
   ],
   "source": [
    "# And now call it! Any problems, head to the troubleshooting guide\n",
    "# This uses GPT 4.1 nano, the incredibly cheap model\n",
    "\n",
    "response = openai.chat.completions.create(\n",
    "    model=\"gpt-4.1-nano\",\n",
    "    messages=messages\n",
    ")\n",
    "\n",
    "print(response.choices[0].message.content)\n"
   ]
  },
  {
   "cell_type": "code",
   "execution_count": 8,
   "metadata": {},
   "outputs": [],
   "source": [
    "# And now - let's ask for a question:\n",
    "\n",
    "question = \"Please propose a hard, challenging question to assess someone's IQ. Respond only with the question.\"\n",
    "messages = [{\"role\": \"user\", \"content\": question}]\n"
   ]
  },
  {
   "cell_type": "code",
   "execution_count": 9,
   "metadata": {},
   "outputs": [
    {
     "name": "stdout",
     "output_type": "stream",
     "text": [
      "If 5 machines take 5 minutes to make 5 widgets, how long would 100 machines take to make 100 widgets?\n"
     ]
    }
   ],
   "source": [
    "# ask it - this uses GPT 4.1 mini, still cheap but more powerful than nano\n",
    "\n",
    "response = openai.chat.completions.create(\n",
    "    model=\"gpt-4.1-mini\",\n",
    "    messages=messages\n",
    ")\n",
    "\n",
    "question = response.choices[0].message.content\n",
    "\n",
    "print(question)\n"
   ]
  },
  {
   "cell_type": "code",
   "execution_count": 10,
   "metadata": {},
   "outputs": [],
   "source": [
    "# form a new messages list\n",
    "messages = [{\"role\": \"user\", \"content\": question}]\n"
   ]
  },
  {
   "cell_type": "code",
   "execution_count": 11,
   "metadata": {},
   "outputs": [
    {
     "name": "stdout",
     "output_type": "stream",
     "text": [
      "Let's analyze the problem step-by-step:\n",
      "\n",
      "- **Given:**  \n",
      "  5 machines take 5 minutes to make 5 widgets.\n",
      "\n",
      "- **Find:**  \n",
      "  How long would 100 machines take to make 100 widgets?\n",
      "\n",
      "---\n",
      "\n",
      "### Step 1: Find the rate per machine\n",
      "\n",
      "If 5 machines take 5 minutes to make 5 widgets, then in 5 minutes:\n",
      "\n",
      "- Total widgets made = 5\n",
      "- Number of machines = 5\n",
      "\n",
      "So, **widgets per machine in 5 minutes** = \\( \\frac{5 \\text{ widgets}}{5 \\text{ machines}} = 1 \\text{ widget per machine} \\).\n",
      "\n",
      "This means each machine makes **1 widget in 5 minutes**.\n",
      "\n",
      "---\n",
      "\n",
      "### Step 2: Find the time for one machine to make one widget\n",
      "\n",
      "Since each machine makes 1 widget in 5 minutes, the rate of one machine is:\n",
      "\n",
      "\\[\n",
      "\\text{Rate} = \\frac{1 \\text{ widget}}{5 \\text{ minutes}} = \\frac{1}{5} \\text{ widget per minute}\n",
      "\\]\n",
      "\n",
      "---\n",
      "\n",
      "### Step 3: Calculate for 100 machines to make 100 widgets\n",
      "\n",
      "If each machine makes \\( \\frac{1}{5} \\) widget per minute, then 100 machines make:\n",
      "\n",
      "\\[\n",
      "100 \\times \\frac{1}{5} = 20 \\text{ widgets per minute}\n",
      "\\]\n",
      "\n",
      "---\n",
      "\n",
      "### Step 4: Compute the time to make 100 widgets at 20 widgets per minute\n",
      "\n",
      "\\[\n",
      "\\text{Time} = \\frac{100 \\text{ widgets}}{20 \\text{ widgets per minute}} = 5 \\text{ minutes}\n",
      "\\]\n",
      "\n",
      "---\n",
      "\n",
      "### **Answer:**\n",
      "\n",
      "\\[\n",
      "\\boxed{5 \\text{ minutes}}\n",
      "\\]\n",
      "\n",
      "**100 machines would take 5 minutes to make 100 widgets.**\n"
     ]
    }
   ],
   "source": [
    "# Ask it again\n",
    "\n",
    "response = openai.chat.completions.create(\n",
    "    model=\"gpt-4.1-mini\",\n",
    "    messages=messages\n",
    ")\n",
    "\n",
    "answer = response.choices[0].message.content\n",
    "print(answer)\n"
   ]
  },
  {
   "cell_type": "code",
   "execution_count": 12,
   "metadata": {},
   "outputs": [
    {
     "data": {
      "text/markdown": [
       "Let's analyze the problem step-by-step:\n",
       "\n",
       "- **Given:**  \n",
       "  5 machines take 5 minutes to make 5 widgets.\n",
       "\n",
       "- **Find:**  \n",
       "  How long would 100 machines take to make 100 widgets?\n",
       "\n",
       "---\n",
       "\n",
       "### Step 1: Find the rate per machine\n",
       "\n",
       "If 5 machines take 5 minutes to make 5 widgets, then in 5 minutes:\n",
       "\n",
       "- Total widgets made = 5\n",
       "- Number of machines = 5\n",
       "\n",
       "So, **widgets per machine in 5 minutes** = \\( \\frac{5 \\text{ widgets}}{5 \\text{ machines}} = 1 \\text{ widget per machine} \\).\n",
       "\n",
       "This means each machine makes **1 widget in 5 minutes**.\n",
       "\n",
       "---\n",
       "\n",
       "### Step 2: Find the time for one machine to make one widget\n",
       "\n",
       "Since each machine makes 1 widget in 5 minutes, the rate of one machine is:\n",
       "\n",
       "\\[\n",
       "\\text{Rate} = \\frac{1 \\text{ widget}}{5 \\text{ minutes}} = \\frac{1}{5} \\text{ widget per minute}\n",
       "\\]\n",
       "\n",
       "---\n",
       "\n",
       "### Step 3: Calculate for 100 machines to make 100 widgets\n",
       "\n",
       "If each machine makes \\( \\frac{1}{5} \\) widget per minute, then 100 machines make:\n",
       "\n",
       "\\[\n",
       "100 \\times \\frac{1}{5} = 20 \\text{ widgets per minute}\n",
       "\\]\n",
       "\n",
       "---\n",
       "\n",
       "### Step 4: Compute the time to make 100 widgets at 20 widgets per minute\n",
       "\n",
       "\\[\n",
       "\\text{Time} = \\frac{100 \\text{ widgets}}{20 \\text{ widgets per minute}} = 5 \\text{ minutes}\n",
       "\\]\n",
       "\n",
       "---\n",
       "\n",
       "### **Answer:**\n",
       "\n",
       "\\[\n",
       "\\boxed{5 \\text{ minutes}}\n",
       "\\]\n",
       "\n",
       "**100 machines would take 5 minutes to make 100 widgets.**"
      ],
      "text/plain": [
       "<IPython.core.display.Markdown object>"
      ]
     },
     "metadata": {},
     "output_type": "display_data"
    }
   ],
   "source": [
    "from IPython.display import Markdown, display\n",
    "\n",
    "display(Markdown(answer))\n",
    "\n"
   ]
  },
  {
   "cell_type": "markdown",
   "metadata": {},
   "source": [
    "# Congratulations!\n",
    "\n",
    "That was a small, simple step in the direction of Agentic AI, with your new environment!\n",
    "\n",
    "Next time things get more interesting..."
   ]
  },
  {
   "cell_type": "markdown",
   "metadata": {},
   "source": [
    "<table style=\"margin: 0; text-align: left; width:100%\">\n",
    "    <tr>\n",
    "        <td style=\"width: 150px; height: 150px; vertical-align: middle;\">\n",
    "            <img src=\"../assets/exercise.png\" width=\"150\" height=\"150\" style=\"display: block;\" />\n",
    "        </td>\n",
    "        <td>\n",
    "            <h2 style=\"color:#ff7800;\">Exercise</h2>\n",
    "            <span style=\"color:#ff7800;\">Now try this commercial application:<br/>\n",
    "            First ask the LLM to pick a business area that might be worth exploring for an Agentic AI opportunity.<br/>\n",
    "            Then ask the LLM to present a pain-point in that industry - something challenging that might be ripe for an Agentic solution.<br/>\n",
    "            Finally have 3 third LLM call propose the Agentic AI solution.\n",
    "            </span>\n",
    "        </td>\n",
    "    </tr>\n",
    "</table>"
   ]
  },
  {
   "cell_type": "code",
   "execution_count": 15,
   "metadata": {},
   "outputs": [
    {
     "data": {
      "text/markdown": [
       "A promising business area for an Agentic AI opportunity in the job search domain is **Personalized Career Path Coaching and Dynamic Job Market Navigation**.\n",
       "\n",
       "### Why this area?\n",
       "\n",
       "1. **Complexity and Dynamism of Job Markets**: Job seekers face an overwhelming amount of information—job listings, required skills, company cultures, emerging roles—and market trends shift rapidly. Navigating these dynamically requires more than static recommendations.\n",
       "\n",
       "2. **Individualized Career Goals and Constraints**: People have unique preferences, skills, learning paces, and constraints (location, salary expectations, time availability). An Agentic AI can understand and adapt strategies autonomously to align job search pathways with these parameters.\n",
       "\n",
       "3. **Active, Proactive Assistance**: Agentic AI systems can act autonomously, not just suggest what jobs to apply for, but also initiate learning modules to close skill gaps, rework resumes dynamically based on feedback, network with recruiters on behalf of users, and adjust strategies based on evolving market signals.\n",
       "\n",
       "### What would the Agentic AI do?\n",
       "\n",
       "- **Autonomous Market Research**: Continuously scan jobs, emerging skills, salary trends, and company hiring patterns tailored to the user's interests and background.\n",
       "  \n",
       "- **Dynamic Skill Gap Analysis & Upskilling Pathways**: Identify future-proof skills missing from the user’s profile and recommend or even enroll the user into relevant courses, bootcamps, or micro-learning modules autonomously.\n",
       "  \n",
       "- **Personalized Application Strategy**: Decide where and when to apply, customize resumes and cover letters dynamically, and prepare for interviews by simulating interactions.\n",
       "  \n",
       "- **Networking & Outreach Automation**: Engage with recruiters and professionals on behalf of the user, schedule networking meetings, and follow up proactively.\n",
       "  \n",
       "- **Feedback Loop and Adaptation**: Adjust job search tactics continually based on interview outcomes, market changes, and user feedback.\n",
       "\n",
       "### Business Model Possibilities\n",
       "\n",
       "- **Subscription Service**: Offer tiered plans with different degrees of agent autonomy and human coaching backup.\n",
       "- **Placement Partnerships**: Collaborate with companies seeking talent, using the AI to match candidates precisely.\n",
       "- **Upskilling Revenue Sharing**: Partner with educational providers for integrated learning experiences.\n",
       "\n",
       "### Summary\n",
       "\n",
       "Building an Agentic AI that acts as a **fully autonomous personal career coach and job market navigator** addresses multiple pain points in job searching by combining market intelligence, personalized strategy, and adaptive learning — creating significant value for users and recruiters alike. This area remains underexplored and offers substantial room for innovation."
      ],
      "text/plain": [
       "<IPython.core.display.Markdown object>"
      ]
     },
     "metadata": {},
     "output_type": "display_data"
    }
   ],
   "source": [
    "# First create the messages:\n",
    "\n",
    "messages = [{\"role\": \"user\", \"content\": \"please propose a business area that might be worth exploring for an Agentic AI opportunity around the job search\"}]\n",
    "\n",
    "# Then make the first call:\n",
    "\n",
    "response = openai.chat.completions.create(\n",
    "    model='gpt-4.1-mini',\n",
    "    messages=messages\n",
    ")\n",
    "\n",
    "# Then read the business idea:\n",
    "\n",
    "business_idea = response.choices[0].message.content\n",
    "display(Markdown(business_idea))\n",
    "# And repeat!"
   ]
  },
  {
   "cell_type": "markdown",
   "metadata": {},
   "source": []
  },
  {
   "cell_type": "code",
   "execution_count": 16,
   "metadata": {},
   "outputs": [
    {
     "data": {
      "text/markdown": [
       "Certainly! Here's a pain-point in the job search and career coaching domain particularly relevant for people who struggle with managing data, organizing information, and planning—skills often required in tools like Excel sheets—that an Agentic AI could address:\n",
       "\n",
       "---\n",
       "\n",
       "### Pain-Point: **Disorganized and Overwhelming Job Application Tracking & Career Planning**\n",
       "\n",
       "**Context:**  \n",
       "Many job seekers, especially those less comfortable with spreadsheets or project management tools, struggle to keep track of the numerous job applications they submit, networking contacts, interview schedules, and follow-ups. This disorganization leads to missed opportunities, confused timelines, and inefficient job search efforts.\n",
       "\n",
       "**Why this matters:**  \n",
       "- Managing multiple job applications requires tracking detailed info: job description, application date, contact persons, interview stages, feedback, and follow-ups.  \n",
       "- Career development planning also demands tracking skills acquisition progress, certifications, and upcoming learning milestones, which can feel like spreadsheet work.  \n",
       "- For many, especially those who dislike or are inexperienced with Excel and other organizational tools, this becomes a major bottleneck, increasing stress and lowering effectiveness.\n",
       "\n",
       "**How an Agentic AI could solve it:**  \n",
       "- **Autonomous Job Application Management:** The Agentic AI would automatically log and update every application, interview, and communication without user manual data entry.  \n",
       "- **Visual and Intuitive Dashboards:** Convert complex data into simple, accessible visual summaries personalized to user preferences, providing clear next steps.  \n",
       "- **Smart Reminders & Scheduling:** Proactively remind users of deadlines, interviews, networking follow-ups, and learning milestones by integrating with calendars and communication tools.  \n",
       "- **Adaptive Prioritization:** Dynamically reorder tasks and applications based on user goals, market changes, and feedback from recruiters & interviews.  \n",
       "- **Seamless Integration:** Link with job boards, email, LinkedIn, and learning platforms to pull in real-time data, eliminating manual tracking entirely.\n",
       "\n",
       "---\n",
       "\n",
       "### Summary  \n",
       "This pain-point around **job search organization and planning vs. the complexity of traditional tools like Excel** creates a ripe opportunity for an Agentic AI to provide a seamless, hands-free, and intuitive solution, dramatically improving job seekers’ efficiency and reducing cognitive load.\n",
       "\n",
       "If this is helpful, I can also help draft an example user journey or detailed feature list for this solution!"
      ],
      "text/plain": [
       "<IPython.core.display.Markdown object>"
      ]
     },
     "metadata": {},
     "output_type": "display_data"
    }
   ],
   "source": [
    "paint_message = f\"Knowing that a business ideas for Agentic AI is {business_idea} please promp a pain-point in that industry that might be ripe for an Agentic solution, especially for people bad at doing excel sheets\"\n",
    "pain_point_question = [{\"role\": \"user\", \"content\": paint_message }]\n",
    "response = openai.chat.completions.create(\n",
    "    model='gpt-4.1-mini',\n",
    "    messages=pain_point_question\n",
    ")\n",
    "pain_answer = response.choices[0].message.content\n",
    "display(Markdown(pain_answer))"
   ]
  }
 ],
 "metadata": {
  "kernelspec": {
   "display_name": ".venv",
   "language": "python",
   "name": "python3"
  },
  "language_info": {
   "codemirror_mode": {
    "name": "ipython",
    "version": 3
   },
   "file_extension": ".py",
   "mimetype": "text/x-python",
   "name": "python",
   "nbconvert_exporter": "python",
   "pygments_lexer": "ipython3",
   "version": "3.12.10"
  }
 },
 "nbformat": 4,
 "nbformat_minor": 2
}
